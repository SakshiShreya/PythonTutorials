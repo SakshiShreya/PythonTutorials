{
 "cells": [
  {
   "cell_type": "markdown",
   "metadata": {},
   "source": [
    "# Loops\n",
    "\n",
    "There are two types of loops in python."
   ]
  },
  {
   "cell_type": "markdown",
   "metadata": {},
   "source": [
    "## while loop\n",
    "\n",
    "**SYNTAX**\n",
    "```\n",
    "while condition:\n",
    "    do something\n",
    "```\n",
    "\n",
    "It performs a function till the condition is true"
   ]
  },
  {
   "cell_type": "code",
   "execution_count": null,
   "metadata": {},
   "outputs": [],
   "source": [
    "# Standard Example\n",
    "var = 1\n",
    "\n",
    "while var <= 5:\n",
    "    print(\"Hello\")\n",
    "    var += 1"
   ]
  },
  {
   "cell_type": "markdown",
   "metadata": {},
   "source": [
    "**Explaination**:\n",
    "1. Initialize a variable var to 1\n",
    "2. Python checks if var <= 5 \n",
    "3. Since the var is less than 5, python enters the loop\n",
    "4. Python prints \"Hello\"\n",
    "5. var is incremented by one. Now var = 2\n",
    "6. Python goes back to the starting of loop\n",
    "7. Checks the value of var which is less than 5\n",
    "8. Again prints and increments\n",
    "9. Now let's say var is incremented to 5 after some loops\n",
    "10. Since var is equal to 5, condition is still true.\n",
    "11. Python enters the loop again and prints \"Hello\"\n",
    "12. var is incremented to 6\n",
    "13. var is compared with 5. This time var is not less than or equal to 5\n",
    "14. Condition is false\n",
    "15. Python moves to the next block (which does not exist in out case)"
   ]
  },
  {
   "cell_type": "code",
   "execution_count": null,
   "metadata": {},
   "outputs": [],
   "source": [
    "# Standard example 2\n",
    "# This time we get values from 1 to 5 in output\n",
    "var = 1\n",
    "\n",
    "while var <= 5:\n",
    "    print(var)\n",
    "    var += 1"
   ]
  },
  {
   "cell_type": "code",
   "execution_count": null,
   "metadata": {},
   "outputs": [],
   "source": [
    "# Standard error\n",
    "var = 1\n",
    "\n",
    "while var <= 5:\n",
    "    print(var)\n",
    "var += 1\n",
    "\n",
    "# Here we enter an infinite loop\n",
    "# because var is incremented after the loop ends\n",
    "# but the loop will never end because value of var is always 1 inside the loop"
   ]
  },
  {
   "cell_type": "markdown",
   "metadata": {},
   "source": [
    "# else statement with while loop\n",
    "\n",
    "In python, else is also associated with while"
   ]
  },
  {
   "cell_type": "code",
   "execution_count": null,
   "metadata": {},
   "outputs": [],
   "source": [
    "var = 1\n",
    "\n",
    "while var <= 5:\n",
    "    print(var)\n",
    "    var += 1\n",
    "else:\n",
    "    print(\"In else\", var)"
   ]
  },
  {
   "cell_type": "markdown",
   "metadata": {},
   "source": [
    "# use while in a single statement"
   ]
  },
  {
   "cell_type": "code",
   "execution_count": null,
   "metadata": {},
   "outputs": [],
   "source": [
    "# Example 1\n",
    "var = 1\n",
    "\n",
    "while var: print(\"Hey! I am in an infinite loop\")\n",
    "    \n",
    "# CAUTION: DO NOT TRY TO DO THIS"
   ]
  },
  {
   "cell_type": "code",
   "execution_count": null,
   "metadata": {},
   "outputs": [],
   "source": [
    "# Example 2\n",
    "# Takes a number and finds the greatest number which is a multiple of 10 but less than the input\n",
    "# This is the least efficient method\n",
    "var = input(\"Enter a number:\\t\")\n",
    "\n",
    "while var % 10: var -= 1\n",
    "print var"
   ]
  },
  {
   "cell_type": "markdown",
   "metadata": {},
   "source": [
    "# For loop\n",
    "\n",
    "It takes a sequence and iterates over it.\n",
    "\n",
    "**SYNTAX**:\n",
    "```\n",
    "for element in sequence:\n",
    "    do something\n",
    "```\n",
    "\n",
    "The most common for loop looks like this:"
   ]
  },
  {
   "cell_type": "code",
   "execution_count": null,
   "metadata": {},
   "outputs": [],
   "source": [
    "a = 10\n",
    "\n",
    "for i in range(a):\n",
    "    print(i)"
   ]
  },
  {
   "cell_type": "markdown",
   "metadata": {},
   "source": [
    "Before understanding the in depth details, let's see some more examples"
   ]
  },
  {
   "cell_type": "code",
   "execution_count": null,
   "metadata": {},
   "outputs": [],
   "source": [
    "a = [2, 54, 57, 21, 87, 21]\n",
    "\n",
    "for i in a:\n",
    "    print(i)"
   ]
  },
  {
   "cell_type": "code",
   "execution_count": null,
   "metadata": {},
   "outputs": [],
   "source": [
    "word = \"Hello\"\n",
    "\n",
    "for letter in word:\n",
    "    print(letter)"
   ]
  },
  {
   "cell_type": "code",
   "execution_count": null,
   "metadata": {},
   "outputs": [],
   "source": [
    "a = 15\n",
    "print(range(a))"
   ]
  },
  {
   "cell_type": "markdown",
   "metadata": {},
   "source": [
    "In python 2, range() is a function that returns a list. But in python 3, it makes an iterable object which is more efficient in terms of saving memory.\n",
    "\n",
    "**Python 2**\n",
    "```\n",
    ">> print range(10)\n",
    "[0, 1, 2, 3, 4, 5, 6, 7, 8, 9]\n",
    "```\n",
    "**Python 3**\n",
    "```\n",
    ">> print(range(10))\n",
    "range(0, 15)\n",
    "```\n",
    "\n",
    "Imagine the output of range(100000)"
   ]
  },
  {
   "cell_type": "code",
   "execution_count": null,
   "metadata": {},
   "outputs": [],
   "source": [
    "# We can also use range like this:\n",
    "\n",
    "for i in range(3, 13):\n",
    "    print(i)"
   ]
  },
  {
   "cell_type": "markdown",
   "metadata": {},
   "source": [
    "# else with for"
   ]
  },
  {
   "cell_type": "code",
   "execution_count": null,
   "metadata": {},
   "outputs": [],
   "source": [
    "for i in range(3, 13):\n",
    "    print(i)\n",
    "else:\n",
    "    print(\"END\")"
   ]
  },
  {
   "cell_type": "markdown",
   "metadata": {},
   "source": [
    "Some important keywords:\n",
    "\n",
    "`break`, `continue` and `pass`"
   ]
  },
  {
   "cell_type": "markdown",
   "metadata": {},
   "source": [
    "# Break\n",
    "\n",
    "break is always used to end a loop in between. It must be used inside a conditional statement to work properly."
   ]
  },
  {
   "cell_type": "code",
   "execution_count": null,
   "metadata": {},
   "outputs": [],
   "source": [
    "# Example 1\n",
    "# If we encounter a 1 in a list, break the loop\n",
    "\n",
    "a = [34, 12, 7, 1, 4, 8, 2]\n",
    "\n",
    "for i in a:\n",
    "    print(i)\n",
    "    if i == 1:\n",
    "        break"
   ]
  },
  {
   "cell_type": "markdown",
   "metadata": {},
   "source": [
    "# Continue\n",
    "\n",
    "used in loops when we don't to process after a certain statement."
   ]
  },
  {
   "cell_type": "code",
   "execution_count": null,
   "metadata": {},
   "outputs": [],
   "source": [
    "# Example 2\n",
    "# Print the number in list and number * 2\n",
    "# But don't print number * 2 if number is 0\n",
    "\n",
    "a = [4, 54, 2, 6, 0, 2, 32]\n",
    "\n",
    "for i in a:\n",
    "    print(i, \":\", end=\"\")\n",
    "    if i == 0:\n",
    "        print()\n",
    "        continue\n",
    "    print(i * 2)"
   ]
  },
  {
   "cell_type": "markdown",
   "metadata": {},
   "source": [
    "# Pass\n",
    "\n",
    "We can't leave a loop or conditional empty. If any need arises to keep them empty, use `pass`"
   ]
  },
  {
   "cell_type": "code",
   "execution_count": null,
   "metadata": {},
   "outputs": [],
   "source": [
    "# Example 3\n",
    "# loops are sometimes used to wait for some time\n",
    "for i in range(1000000):\n",
    "    pass"
   ]
  },
  {
   "cell_type": "markdown",
   "metadata": {},
   "source": [
    "### Now we will code some examples next\n",
    "\n",
    "1. Sum of n numbers\n",
    "2. Check if a number is prime\n",
    "3. Fibonacci Sequence\n",
    "4. Reverse a number\n",
    "5. Some patterns"
   ]
  }
 ],
 "metadata": {
  "kernelspec": {
   "display_name": "Python 3",
   "language": "python",
   "name": "python3"
  },
  "language_info": {
   "codemirror_mode": {
    "name": "ipython",
    "version": 3
   },
   "file_extension": ".py",
   "mimetype": "text/x-python",
   "name": "python",
   "nbconvert_exporter": "python",
   "pygments_lexer": "ipython3",
   "version": "3.6.6"
  }
 },
 "nbformat": 4,
 "nbformat_minor": 2
}
