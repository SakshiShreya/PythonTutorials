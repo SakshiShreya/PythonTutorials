{
 "cells": [
  {
   "cell_type": "markdown",
   "metadata": {},
   "source": [
    "# Functions\n",
    "\n",
    "- Functions are used to make the code modular.\n",
    "- Functions make the code more readable\n",
    "- Functions can be used for any number of times."
   ]
  },
  {
   "cell_type": "markdown",
   "metadata": {},
   "source": [
    "**Functions can be broadly classified into 4 categories**\n",
    "\n",
    "1. No arguments and no return\n",
    "2. With arguments but no return\n",
    "3. No arguments but with return\n",
    "4. With arguments and with return"
   ]
  },
  {
   "cell_type": "code",
   "execution_count": null,
   "metadata": {},
   "outputs": [],
   "source": [
    "# no arguments and no return\n",
    "\n",
    "# mostly used in classes\n",
    "# otherwise rarely used\n",
    "\n",
    "def saysomething():\n",
    "    print (\"Hello World\")"
   ]
  },
  {
   "cell_type": "code",
   "execution_count": null,
   "metadata": {},
   "outputs": [],
   "source": [
    "saysomething()"
   ]
  },
  {
   "cell_type": "code",
   "execution_count": null,
   "metadata": {},
   "outputs": [],
   "source": [
    "# with arguments but no return\n",
    "\n",
    "# mostly used in classes\n",
    "# otherwise used only for printing purposes or changing value of a global variable\n",
    "\n",
    "def tellthesum(a, b):\n",
    "    print (\"Sum is:\", a + b)"
   ]
  },
  {
   "cell_type": "code",
   "execution_count": null,
   "metadata": {},
   "outputs": [],
   "source": [
    "tellthesum(5, 7)"
   ]
  },
  {
   "cell_type": "code",
   "execution_count": null,
   "metadata": {},
   "outputs": [],
   "source": [
    "# no arguments but with return\n",
    "\n",
    "def makeArray():\n",
    "    a = raw_input(\"Enter whole array in same line: \")\n",
    "    arr = a.split()\n",
    "    arr = [int(x) for x in arr]\n",
    "    return arr"
   ]
  },
  {
   "cell_type": "code",
   "execution_count": null,
   "metadata": {},
   "outputs": [],
   "source": [
    "print makeArray()"
   ]
  },
  {
   "cell_type": "code",
   "execution_count": 23,
   "metadata": {},
   "outputs": [],
   "source": [
    "# with arguments and with return\n",
    "\n",
    "def add(a, b):\n",
    "    return a + b"
   ]
  },
  {
   "cell_type": "code",
   "execution_count": null,
   "metadata": {},
   "outputs": [],
   "source": [
    "print add(2, 3)"
   ]
  },
  {
   "cell_type": "markdown",
   "metadata": {},
   "source": [
    "# More on functions\n",
    "\n",
    "- Variables scope\n",
    "- Call by value\n",
    "- Call by reference\n",
    "- Passing collections to a function\n",
    "- Passing functions to function\n",
    "- Lamda function"
   ]
  },
  {
   "cell_type": "markdown",
   "metadata": {},
   "source": [
    "# Exercises\n",
    "\n",
    "1. Write a Python function to find the Max of three numbers\n",
    "2. Write a Python function to sum all the numbers in a list\n",
    "3. Write a Python program to reverse a string\n",
    "4. Write a Python function to calculate the factorial of a number (a non-negative integer). The function accepts the number as an argument\n",
    "5. Write a Python function that takes a number as a parameter and check the number is prime or not"
   ]
  },
  {
   "cell_type": "code",
   "execution_count": null,
   "metadata": {},
   "outputs": [],
   "source": []
  }
 ],
 "metadata": {
  "kernelspec": {
   "display_name": "Python 3",
   "language": "python",
   "name": "python3"
  },
  "language_info": {
   "codemirror_mode": {
    "name": "ipython",
    "version": 3
   },
   "file_extension": ".py",
   "mimetype": "text/x-python",
   "name": "python",
   "nbconvert_exporter": "python",
   "pygments_lexer": "ipython3",
   "version": "3.6.6"
  }
 },
 "nbformat": 4,
 "nbformat_minor": 2
}
