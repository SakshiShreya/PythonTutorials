{
 "cells": [
  {
   "cell_type": "markdown",
   "metadata": {},
   "source": [
    "# Conditionals\n",
    "\n",
    "**Why are conditionals used?**\n",
    "\n",
    "To make decisions. If this happens then do this otherwise do that."
   ]
  },
  {
   "cell_type": "markdown",
   "metadata": {},
   "source": [
    "## If statement\n",
    "\n",
    "**SYNTAX**:\n",
    "```\n",
    "if condition:\n",
    "    do this\n",
    "```\n",
    "\n",
    "Note that the indentation is necessary. Colon is also necessary."
   ]
  },
  {
   "cell_type": "code",
   "execution_count": null,
   "metadata": {},
   "outputs": [],
   "source": [
    "# Standard example\n",
    "\n",
    "age = int(input(\"Enter your age: \\t\"))\n",
    "if age >= 18:\n",
    "    print(\"You can vote\")\n",
    "    \n",
    "if age < 18:\n",
    "    print(\"You can not vote\")"
   ]
  },
  {
   "cell_type": "code",
   "execution_count": null,
   "metadata": {},
   "outputs": [],
   "source": [
    "# Another example\n",
    "\n",
    "number = int(input(\"Enter a number: \\t\"))\n",
    "if number < 0:\n",
    "    print (\"Number is negative\")\n",
    "\n",
    "if number == 0:\n",
    "    print (\"Number is 0\")\n",
    "    \n",
    "if number > 0:\n",
    "    print (\"Number is positive\")"
   ]
  },
  {
   "cell_type": "code",
   "execution_count": null,
   "metadata": {},
   "outputs": [],
   "source": [
    "# WRONG\n",
    "# When we remove indentation, means our work for if has ended\n",
    "# And then another indented statement is present here which is not a part of any block\n",
    "\n",
    "if number < 0:\n",
    "    print(\"Hello\")\n",
    "print(\"World\")\n",
    "    print(\"Hello Again\")"
   ]
  },
  {
   "cell_type": "markdown",
   "metadata": {},
   "source": [
    "## if else statement\n",
    "\n",
    "**SYNTAX**:\n",
    "```\n",
    "if condition:\n",
    "    do this\n",
    "else:\n",
    "    do that\n",
    "```\n",
    "\n",
    "Note the indentation"
   ]
  },
  {
   "cell_type": "code",
   "execution_count": null,
   "metadata": {},
   "outputs": [],
   "source": [
    "age = int(input(\"Enter your age: \\t\"))\n",
    "if age >= 18:\n",
    "    print(\"You can vote\")\n",
    "else:\n",
    "    print(\"You can not vote\")"
   ]
  },
  {
   "cell_type": "markdown",
   "metadata": {},
   "source": [
    "- This saves a little time as we don't have to write the condition for both statements\n",
    "- This helps in understanding that this is doing one work only. They are not two blocks.\n",
    "\n",
    "In any coding language, if we write a conditional, loop, function or class, they are called blocks.\n",
    "\n",
    "Here, we have written a block that finds out if a person can vote or not.\n",
    "\n",
    "In jupyter, we have to write one block in one cell. We can not divide a block in separate cells."
   ]
  },
  {
   "cell_type": "code",
   "execution_count": null,
   "metadata": {},
   "outputs": [],
   "source": [
    "# THIS IS WRONG\n",
    "# Only if will work. Else will give an error.\n",
    "\n",
    "age = int(input(\"Enter your age: \\t\"))\n",
    "if age >= 18:\n",
    "    print(\"You can vote\")"
   ]
  },
  {
   "cell_type": "code",
   "execution_count": null,
   "metadata": {},
   "outputs": [],
   "source": [
    "else:\n",
    "    print(\"You can not vote\")"
   ]
  },
  {
   "cell_type": "markdown",
   "metadata": {},
   "source": [
    "## if elif else statement\n",
    "\n",
    "**SYNTAX**:\n",
    "```\n",
    "if condition:\n",
    "    do this\n",
    "elif anotherCondition:\n",
    "    do that\n",
    "...\n",
    "else:\n",
    "    do something\n",
    "```"
   ]
  },
  {
   "cell_type": "code",
   "execution_count": null,
   "metadata": {},
   "outputs": [],
   "source": [
    "number = int(input(\"Enter a number: \\t\"))\n",
    "if number < 0:\n",
    "    print (\"Number is negative\")\n",
    "\n",
    "elif number == 0:\n",
    "    print (\"Number is 0\")\n",
    "    \n",
    "else:\n",
    "    print (\"Number is positive\")"
   ]
  },
  {
   "cell_type": "markdown",
   "metadata": {},
   "source": [
    "## Ternary statements\n",
    "\n",
    "It is the short-cut for if else statements.\n",
    "\n",
    "**Note**: This method can not be applied everywhere. We can use this block only if:\n",
    "\n",
    "- elif is not present\n",
    "- we are performing only one operation in each if and else"
   ]
  },
  {
   "cell_type": "code",
   "execution_count": null,
   "metadata": {},
   "outputs": [],
   "source": [
    "# Example 1\n",
    "\n",
    "a = -7\n",
    "\n",
    "# makes sure that a is always greater than or equal to 0\n",
    "a = 0 if a < 0 else a\n",
    "\n",
    "# This statement is equivalent to\n",
    "# if a < 0:\n",
    "#     a = 0\n",
    "# else:\n",
    "#     a = a\n",
    "\n",
    "print(a)"
   ]
  },
  {
   "cell_type": "code",
   "execution_count": null,
   "metadata": {},
   "outputs": [],
   "source": [
    "# Example 2\n",
    "age = int(input(\"Enter your age: \\t\"))\n",
    "\n",
    "print(\"You can vote\") if age > 18 else print(\"You can't vote\")"
   ]
  },
  {
   "cell_type": "code",
   "execution_count": null,
   "metadata": {},
   "outputs": [],
   "source": [
    "# Example 3\n",
    "a = 7\n",
    "\n",
    "b = True if a is 0 else False\n",
    "print(b)"
   ]
  }
 ],
 "metadata": {
  "kernelspec": {
   "display_name": "Python 3",
   "language": "python",
   "name": "python3"
  },
  "language_info": {
   "codemirror_mode": {
    "name": "ipython",
    "version": 3
   },
   "file_extension": ".py",
   "mimetype": "text/x-python",
   "name": "python",
   "nbconvert_exporter": "python",
   "pygments_lexer": "ipython3",
   "version": "3.6.6"
  }
 },
 "nbformat": 4,
 "nbformat_minor": 2
}
