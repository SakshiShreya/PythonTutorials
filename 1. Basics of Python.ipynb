{
 "cells": [
  {
   "cell_type": "markdown",
   "metadata": {},
   "source": [
    "# Basics\n",
    "\n",
    "Python has 2 versions - Python 2 and Python 3.\n",
    "\n",
    "Right now, latest version of python are Python 2.7 and Python 3.7."
   ]
  },
  {
   "cell_type": "markdown",
   "metadata": {},
   "source": [
    "## Difference between Python 2 and 3\n",
    "\n",
    "- They are built on different architecture\n",
    "- Print function\n",
    "- Input functions (We will discuss in next lecture)\n",
    "- Division operator\n",
    "- Unicode (We will discuss in strings)\n",
    "- xrange (We will discuss in loops)\n",
    "- Error handling (We will discuss in error handling)"
   ]
  },
  {
   "cell_type": "markdown",
   "metadata": {},
   "source": [
    "### Print function\n",
    "\n",
    "This is the most well known change. In python 2, we can write a print statement in two ways - \n",
    "\n",
    "```\n",
    "print(\"Hello World\")\n",
    "print \"Hello World\"\n",
    "```\n",
    "\n",
    "Both of them will give same output.\n",
    "\n",
    "But, in python 3, we can use only the first statement. Second statement will give an error."
   ]
  },
  {
   "cell_type": "code",
   "execution_count": 1,
   "metadata": {},
   "outputs": [
    {
     "name": "stdout",
     "output_type": "stream",
     "text": [
      "Hello World\n"
     ]
    }
   ],
   "source": [
    "print(\"Hello World\")"
   ]
  },
  {
   "cell_type": "code",
   "execution_count": 2,
   "metadata": {},
   "outputs": [
    {
     "ename": "SyntaxError",
     "evalue": "Missing parentheses in call to 'print'. Did you mean print(\"Hello World\")? (<ipython-input-2-2e860ebf713e>, line 1)",
     "output_type": "error",
     "traceback": [
      "\u001b[1;36m  File \u001b[1;32m\"<ipython-input-2-2e860ebf713e>\"\u001b[1;36m, line \u001b[1;32m1\u001b[0m\n\u001b[1;33m    print \"Hello World\"\u001b[0m\n\u001b[1;37m                      ^\u001b[0m\n\u001b[1;31mSyntaxError\u001b[0m\u001b[1;31m:\u001b[0m Missing parentheses in call to 'print'. Did you mean print(\"Hello World\")?\n"
     ]
    }
   ],
   "source": [
    "print \"Hello World\""
   ]
  },
  {
   "cell_type": "markdown",
   "metadata": {},
   "source": [
    "### Division Operator\n",
    "\n",
    "In python 2, when we **divide an integer by another integer**, we get **output in the form of integer**.\n",
    "\n",
    "```\n",
    "print 9/5\n",
    "```\n",
    "\n",
    "**OUTPUT**\n",
    "\n",
    "```\n",
    "1\n",
    "```\n",
    "\n",
    "Because, 9/5 = 1.8\n",
    "\n",
    "For converting a float to an integer, python performs **floor operation**.\n",
    "\n",
    "Examples:\n",
    "\n",
    "> 18 / 7 = 2\n",
    ">\n",
    "> -18 / 7 = -3\n",
    "\n",
    "Because 18 / 7 = 2.5714285714285716\n",
    "\n",
    "And    -18 / 7 = -2.5714285714285716\n",
    "\n",
    "But in python 3:"
   ]
  },
  {
   "cell_type": "code",
   "execution_count": 3,
   "metadata": {},
   "outputs": [
    {
     "name": "stdout",
     "output_type": "stream",
     "text": [
      "2.5714285714285716\n",
      "-2.5714285714285716\n"
     ]
    }
   ],
   "source": [
    "print (18/7)\n",
    "print (-18/7)"
   ]
  },
  {
   "cell_type": "markdown",
   "metadata": {},
   "source": [
    "### How to get float in python 2 when we divide\n",
    "\n",
    "We will do that in next class\n",
    "\n",
    "### How to get integer in python 3 when we divide\n",
    "\n",
    "We will do that in next class"
   ]
  },
  {
   "cell_type": "markdown",
   "metadata": {},
   "source": [
    "## Comments in python\n",
    "\n",
    "There are two types of comments"
   ]
  },
  {
   "cell_type": "code",
   "execution_count": 4,
   "metadata": {},
   "outputs": [
    {
     "data": {
      "text/plain": [
       "'\\nThis is a multi\\nline comment\\n'"
      ]
     },
     "execution_count": 4,
     "metadata": {},
     "output_type": "execute_result"
    }
   ],
   "source": [
    "# This is a single line comment\n",
    "\n",
    "'''\n",
    "This is a multi\n",
    "line comment\n",
    "'''\n",
    "\n",
    "# Multi line comments are not preferred in python\n",
    "# Because they are a substitution of multi-line strings\n",
    "# So, if we want to comment multiple lines, we use\n",
    "# multiple single line comments\n",
    "# Similar to what I am doing here"
   ]
  },
  {
   "cell_type": "markdown",
   "metadata": {},
   "source": [
    "## Data types in Python\n",
    "\n",
    "There are 6 different datatypes in Python. To check the type of any data, we use type() function.\n",
    "\n",
    "## 1. int\n",
    "\n",
    "ints (Integers) are similar to the integers that we study in Maths"
   ]
  },
  {
   "cell_type": "code",
   "execution_count": 5,
   "metadata": {},
   "outputs": [
    {
     "name": "stdout",
     "output_type": "stream",
     "text": [
      "4\n",
      "<class 'int'>\n"
     ]
    }
   ],
   "source": [
    "a = 4\n",
    "# a is storing an integer\n",
    "\n",
    "# To print an integer\n",
    "print (a)\n",
    "\n",
    "# If we want to check its datatype, we can use type() function\n",
    "print(type(a))"
   ]
  },
  {
   "cell_type": "markdown",
   "metadata": {},
   "source": [
    "## 2. Floats\n",
    "\n",
    "floats are similar to decimal numbers"
   ]
  },
  {
   "cell_type": "code",
   "execution_count": 6,
   "metadata": {},
   "outputs": [
    {
     "name": "stdout",
     "output_type": "stream",
     "text": [
      "4.0\n",
      "<class 'float'>\n"
     ]
    }
   ],
   "source": [
    "b = 4.0\n",
    "# b is storing an integer\n",
    "\n",
    "# To print b and its datatype\n",
    "print (b)\n",
    "print(type(b))"
   ]
  },
  {
   "cell_type": "markdown",
   "metadata": {},
   "source": [
    "## 3. str\n",
    "\n",
    "str (strings) are a group of characters\n",
    "\n",
    "**Note** - There is no `char` datatype in Python"
   ]
  },
  {
   "cell_type": "code",
   "execution_count": 7,
   "metadata": {},
   "outputs": [
    {
     "name": "stdout",
     "output_type": "stream",
     "text": [
      "A String\n",
      "Another String\n",
      "<class 'str'>\n",
      "<class 'str'>\n"
     ]
    }
   ],
   "source": [
    "c = \"A String\"\n",
    "d = 'Another String'\n",
    "# c and d both store strings\n",
    "\n",
    "# to print them\n",
    "print(c)\n",
    "print(d)\n",
    "\n",
    "# to check their datatype\n",
    "print(type(c))\n",
    "print(type(d))"
   ]
  },
  {
   "cell_type": "markdown",
   "metadata": {},
   "source": [
    "## 4. List\n",
    "\n",
    "Lists are group of some data. We can have 1D lists, 2D lists and more..."
   ]
  },
  {
   "cell_type": "code",
   "execution_count": 8,
   "metadata": {},
   "outputs": [
    {
     "name": "stdout",
     "output_type": "stream",
     "text": [
      "['Hello', 7.0827, 4, 4.0, 'A String', 'Another String', 7]\n",
      "<class 'list'>\n"
     ]
    }
   ],
   "source": [
    "e = [\"Hello\", 7.0827, a, b, c, d, 7]\n",
    "# e is a 1D list of data of different datatypes\n",
    "\n",
    "# To print e and its datatype\n",
    "print(e)\n",
    "print(type(e))"
   ]
  },
  {
   "cell_type": "code",
   "execution_count": 9,
   "metadata": {},
   "outputs": [
    {
     "name": "stdout",
     "output_type": "stream",
     "text": [
      "[[1, 2, 3], [4.1, 5.2, 6.3], ['a', '1', 'Z', 7]]\n",
      "<class 'list'>\n"
     ]
    }
   ],
   "source": [
    "f = [[1, 2, 3], [4.1, 5.2, 6.3], ['a', '1', 'Z', 7]]\n",
    "# f is a list of lists\n",
    "# f has three lists inside it\n",
    "# list1 - [1, 2, 3]\n",
    "# list2 - [4.1, 5.2, 6.3]\n",
    "# list3 - ['a', '1', 'Z', 7]\n",
    "\n",
    "print(f)\n",
    "print(type(f))"
   ]
  },
  {
   "cell_type": "code",
   "execution_count": 10,
   "metadata": {},
   "outputs": [
    {
     "name": "stdout",
     "output_type": "stream",
     "text": [
      "[[1, 2, 3], [4.1, 5.2, 6.3], ['a', '1', 'Z', 7], ['Hello', 7.0827, 4, 4.0, 'A String', 'Another String', 7]]\n"
     ]
    }
   ],
   "source": [
    "# We can also construct 2D lists in this way-\n",
    "list1 = [1, 2, 3]\n",
    "list2 = [4.1, 5.2, 6.3]\n",
    "list3 = ['a', '1', 'Z', 7]\n",
    "f = [list1, list2, list3, e]\n",
    "\n",
    "print(f)"
   ]
  },
  {
   "cell_type": "markdown",
   "metadata": {},
   "source": [
    "## 5. Tuples\n",
    "\n",
    "Tuples are similar to lists. There are some differences\n",
    ">Lists are defined using [ ] (square brackets)\n",
    ">\n",
    ">Tuples are defined using () (Parantheses OR Round Brackets)\n",
    "\n",
    ">Lists are mutable (you can change the values)\n",
    ">\n",
    ">Tuples are immutable (you can't change the values)"
   ]
  },
  {
   "cell_type": "code",
   "execution_count": 11,
   "metadata": {},
   "outputs": [
    {
     "name": "stdout",
     "output_type": "stream",
     "text": [
      "(1, 'String', 3, 5)\n",
      "<class 'tuple'>\n"
     ]
    }
   ],
   "source": [
    "g = (1, \"String\", 3, 5)\n",
    "\n",
    "print(g)\n",
    "print(type(g))\n",
    "\n",
    "# You can try making a tuple of tuples (like we made list of lists)"
   ]
  },
  {
   "cell_type": "code",
   "execution_count": 12,
   "metadata": {},
   "outputs": [
    {
     "name": "stdout",
     "output_type": "stream",
     "text": [
      "Hello\n",
      "7.0827\n",
      "4\n",
      "\n",
      "[1, 2, 3]\n",
      "[4.1, 5.2, 6.3]\n",
      "\n",
      "1\n",
      "2\n",
      "7\n",
      "\n",
      "1\n",
      "String\n"
     ]
    }
   ],
   "source": [
    "# To access data of lists or tuples, we use index\n",
    "\n",
    "print(e[0])\n",
    "print(e[1])\n",
    "print(e[2])\n",
    "\n",
    "print()  # For some separation\n",
    "print(f[0])\n",
    "print(f[1])\n",
    "\n",
    "print()\n",
    "print(f[0][0])\n",
    "print(f[0][1])\n",
    "print(f[2][3])\n",
    "\n",
    "print()\n",
    "print(g[0])\n",
    "print(g[1])"
   ]
  },
  {
   "cell_type": "markdown",
   "metadata": {},
   "source": [
    "## 6. dict\n",
    "\n",
    "Dictionaries are also known as associative array or hash maps in other languages.\n",
    "\n",
    "In lists, we store an element at some index. We can access those elements by their indices.\n",
    "\n",
    "But, sometimes, indices don't tell about the data that is storeda at that index\n",
    "\n",
    "For e.g.,\n",
    "\n",
    "```\n",
    "info = [[\"Tomato\", 10], [\"Orange\", 21], [\"Apple\", 8]]\n",
    "```\n",
    "This does not tell what data is stored at each index. To tackle that, we use dictionaries.\n",
    "\n",
    "In dictionaries, we store data in [key:value] pairs. Key is used to tell what data is stored. And value is used to store the data."
   ]
  },
  {
   "cell_type": "code",
   "execution_count": 1,
   "metadata": {},
   "outputs": [
    {
     "name": "stdout",
     "output_type": "stream",
     "text": [
      "{'Tomato': 10, 'Orange': 21, 'Apple': 8}\n",
      "<class 'dict'>\n"
     ]
    }
   ],
   "source": [
    "f = {\"Tomato\": 10, \"Orange\": 21, \"Apple\": 8}\n",
    "# Here \"Tomato\", \"Orange\", \"Apple\" are keys\n",
    "# and 10, 21, 8 are values\n",
    "# You can store int, float, Strings and Tuples in key\n",
    "# In values, you can store any data type including dictionaries\n",
    "\n",
    "print(f)\n",
    "print(type(f))"
   ]
  },
  {
   "cell_type": "code",
   "execution_count": 2,
   "metadata": {},
   "outputs": [
    {
     "name": "stdout",
     "output_type": "stream",
     "text": [
      "10\n"
     ]
    }
   ],
   "source": [
    "# If you want to access any data, you will use keys instead of index\n",
    "print(f[\"Tomato\"])"
   ]
  },
  {
   "cell_type": "markdown",
   "metadata": {},
   "source": [
    "## 7. bool\n",
    "\n",
    "Booleans are just True and False. And they follow boolean algebra."
   ]
  },
  {
   "cell_type": "code",
   "execution_count": 15,
   "metadata": {},
   "outputs": [
    {
     "name": "stdout",
     "output_type": "stream",
     "text": [
      "True\n",
      "<class 'bool'>\n"
     ]
    }
   ],
   "source": [
    "g = True\n",
    "\n",
    "print(g)\n",
    "print(type(g))"
   ]
  },
  {
   "cell_type": "markdown",
   "metadata": {},
   "source": [
    "## 8. Complex\n",
    "\n",
    "Similar to complex numbers that we study in maths (Not used very much. Many people don't even know if they exist)"
   ]
  },
  {
   "cell_type": "code",
   "execution_count": 16,
   "metadata": {},
   "outputs": [
    {
     "name": "stdout",
     "output_type": "stream",
     "text": [
      "(2+3j)\n",
      "<class 'complex'>\n"
     ]
    }
   ],
   "source": [
    "h = 2+3j\n",
    "\n",
    "print(h)\n",
    "print(type(h))"
   ]
  },
  {
   "cell_type": "markdown",
   "metadata": {},
   "source": [
    "## 9. Sets\n",
    "\n",
    "Sets are similar to the sets in mathematics. (Not very common datatype)\n",
    "\n",
    "We can use functions like union, intersection, difference etc on them.\n",
    "\n",
    "Sets are also defined using {} Curly braces.\n",
    "But, we don't store data in the form of key:value pairs."
   ]
  },
  {
   "cell_type": "code",
   "execution_count": 17,
   "metadata": {},
   "outputs": [
    {
     "name": "stdout",
     "output_type": "stream",
     "text": [
      "{1, 2, 3}\n",
      "{1, 2, 3}\n",
      "\n",
      "<class 'set'>\n",
      "<class 'set'>\n"
     ]
    }
   ],
   "source": [
    "i = {1, 2, 3}\n",
    "j = {1, 2, 3, 2}\n",
    "\n",
    "# i and j are sets and they are equal.\n",
    "# Because sets don't store same values again and again.\n",
    "# in j, 2 will be stored only once\n",
    "\n",
    "print(i)\n",
    "print(j)\n",
    "\n",
    "print()\n",
    "print(type(i))\n",
    "print(type(j))"
   ]
  },
  {
   "cell_type": "markdown",
   "metadata": {},
   "source": [
    "# SUMMARY\n",
    "\n",
    "There are a lot of data types.\n",
    "These are - \n",
    "1. int\n",
    "2. float\n",
    "3. strings\n",
    "4. lists\n",
    "5. tuples\n",
    "6. Dictionaries\n",
    "7. Booleans\n",
    "8. Complex\n",
    "8. Sets\n",
    "\n",
    "The difference between lists, tuples, dictionaries and sets are:\n",
    ">lists use [] square brackets.\n",
    ">\n",
    ">tuples use () parantheses/round brackets.\n",
    ">\n",
    ">dictionaries and sets use {} curly braces.\n",
    "\n",
    ">Dictionaries use are stored in key:value pairs.\n",
    ">\n",
    ">Sets are not stored in pairs.\n",
    "\n",
    ">Lists, dictionaries and sets are mutable. Their values can change.\n",
    ">\n",
    ">Tuples are not mutable, their values can't change."
   ]
  },
  {
   "cell_type": "code",
   "execution_count": null,
   "metadata": {},
   "outputs": [],
   "source": []
  }
 ],
 "metadata": {
  "kernelspec": {
   "display_name": "Python 3",
   "language": "python",
   "name": "python3"
  },
  "language_info": {
   "codemirror_mode": {
    "name": "ipython",
    "version": 3
   },
   "file_extension": ".py",
   "mimetype": "text/x-python",
   "name": "python",
   "nbconvert_exporter": "python",
   "pygments_lexer": "ipython3",
   "version": "3.6.9"
  }
 },
 "nbformat": 4,
 "nbformat_minor": 2
}
