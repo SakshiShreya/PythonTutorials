{
 "cells": [
  {
   "cell_type": "markdown",
   "metadata": {},
   "source": [
    "# More about printing\n",
    "\n",
    "Print produces formatted output.\n",
    "\n",
    "What do we mean by that?\n",
    "\n",
    "We can change the way a string looks by using some very nice options.\n",
    "\n",
    "These options are:\n",
    "1. Escape sequences\n",
    "2. Format specifiers"
   ]
  },
  {
   "cell_type": "markdown",
   "metadata": {},
   "source": [
    "## Escape sequences\n",
    "\n",
    "Escape sequences start with a backslash - '\\\\'\n",
    "\n",
    "According to Wikipedia - \n",
    "\n",
    "Escape sequences are used in the programming languages C and C++, and also in many more languages (with some variations) like Java and C#. An escape sequence is a sequence of characters that does not represent itself when used inside a character or string literal, but is translated into another character or a sequence of characters that may be difficult or impossible to represent directly.\n",
    "\n",
    "There are a lot of escape seqences available.\n",
    "1. **\\\\[Enter]**- For ignoring the Enter. It is used when the statement is too long to fit in one line.\n",
    "2. \\\\\\\\ - Used for backslash\n",
    "3. **\\\\'** - Single Quote\n",
    "4. **\\\\\"** - Double Quote\n",
    "5. \\\\a - Bell\n",
    "6. \\\\b - Backspace\n",
    "7. **\\\\n** - New line\n",
    "8. \\\\r - Carriage return\n",
    "9. **\\\\t** - Horizontal tab\n",
    "10. \\\\v - Vertical tab (I have never seen a vertical tab)"
   ]
  },
  {
   "cell_type": "code",
   "execution_count": 2,
   "metadata": {},
   "outputs": [
    {
     "ename": "SyntaxError",
     "evalue": "EOL while scanning string literal (<ipython-input-2-0c023c49be2a>, line 1)",
     "output_type": "error",
     "traceback": [
      "\u001b[1;36m  File \u001b[1;32m\"<ipython-input-2-0c023c49be2a>\"\u001b[1;36m, line \u001b[1;32m1\u001b[0m\n\u001b[1;33m    print(\"aaaaaaaaaaaaaaaaaaaaaaaaaaaaaaaaaaaaaaaaaaaaaaaaaaaaaaaaaaaaaaaaaaaaaaaaaaaaaaaaaaaaaaaaaaaaaaaaa\u001b[0m\n\u001b[1;37m                                                                                                            ^\u001b[0m\n\u001b[1;31mSyntaxError\u001b[0m\u001b[1;31m:\u001b[0m EOL while scanning string literal\n"
     ]
    }
   ],
   "source": [
    "print(\"aaaaaaaaaaaaaaaaaaaaaaaaaaaaaaaaaaaaaaaaaaaaaaaaaaaaaaaaaaaaaaaaaaaaaaaaaaaaaaaaaaaaaaaaaaaaaaaaa\n",
    "bbbbbbbbbbbbbbbbbbbbbbbbbbbbbbbbbbbbbbbbbbbbbbbbbbbbbbbbbbbbbbbbbbbbbbbbbbbbbbbbbbbbbbbbbbbbbbbbbb\")"
   ]
  },
  {
   "cell_type": "code",
   "execution_count": 3,
   "metadata": {},
   "outputs": [
    {
     "name": "stdout",
     "output_type": "stream",
     "text": [
      "aaaaaaaaaaaaaaaaaaaaaaaaaaaaaaaaaaaaaaaaaaaaaaaaaaaaaaaaaaaaaaaaaaaaaaaaaaaaaaaaaaaaaaaaaaaaaaaaabbbbbbbbbbbbbbbbbbbbbbbbbbbbbbbbbbbbbbbbbbbbbbbbbbbbbbbbbbbbbbbbbbbbbbbbbbbbbbbbbbbbbbbbbbbbbbbbbb\n"
     ]
    }
   ],
   "source": [
    "# \\ is used in this case\n",
    "\n",
    "print(\"aaaaaaaaaaaaaaaaaaaaaaaaaaaaaaaaaaaaaaaaaaaaaaaaaaaaaaaaaaaaaaaaaaaaaaaaaaaaaaaaaaaaaaaaaaaaaaaaa\\\n",
    "bbbbbbbbbbbbbbbbbbbbbbbbbbbbbbbbbbbbbbbbbbbbbbbbbbbbbbbbbbbbbbbbbbbbbbbbbbbbbbbbbbbbbbbbbbbbbbbbbb\")"
   ]
  },
  {
   "cell_type": "code",
   "execution_count": 5,
   "metadata": {},
   "outputs": [
    {
     "ename": "SyntaxError",
     "evalue": "invalid syntax (<ipython-input-5-8a02326742bf>, line 2)",
     "output_type": "error",
     "traceback": [
      "\u001b[1;36m  File \u001b[1;32m\"<ipython-input-5-8a02326742bf>\"\u001b[1;36m, line \u001b[1;32m2\u001b[0m\n\u001b[1;33m    print('Python is world's best language')\u001b[0m\n\u001b[1;37m                           ^\u001b[0m\n\u001b[1;31mSyntaxError\u001b[0m\u001b[1;31m:\u001b[0m invalid syntax\n"
     ]
    }
   ],
   "source": [
    "# If we want to print - Python is world's best language\n",
    "print('Python is world's best language')"
   ]
  },
  {
   "cell_type": "code",
   "execution_count": 4,
   "metadata": {},
   "outputs": [
    {
     "name": "stdout",
     "output_type": "stream",
     "text": [
      "Python is world's best language\n"
     ]
    }
   ],
   "source": [
    "# We can escape the ' after world by using backslash\n",
    "print('Python is world\\'s best language')"
   ]
  },
  {
   "cell_type": "code",
   "execution_count": 11,
   "metadata": {},
   "outputs": [
    {
     "name": "stdout",
     "output_type": "stream",
     "text": [
      "He said, \"Python is the world's best language\"\n"
     ]
    }
   ],
   "source": [
    "# Do the same with double quotes\n",
    "# He said, \"Python is the world's t language\"\n",
    "print('He said, \\\"Python is the world\\'s best language\"')"
   ]
  },
  {
   "cell_type": "code",
   "execution_count": 20,
   "metadata": {},
   "outputs": [
    {
     "name": "stdout",
     "output_type": "stream",
     "text": [
      "Hello\\nWorld\n"
     ]
    }
   ],
   "source": [
    "# For new line, we use \\n\n",
    "print(\"Hello\\\\nWorld\")"
   ]
  },
  {
   "cell_type": "code",
   "execution_count": 13,
   "metadata": {},
   "outputs": [
    {
     "name": "stdout",
     "output_type": "stream",
     "text": [
      "Hello\n",
      "Hello\n"
     ]
    }
   ],
   "source": [
    "# \\n is the default value in 'end' argument\n",
    "\n",
    "print(\"Hello\")\n",
    "# is equivalent to \n",
    "print(\"Hello\", end=\"\\n\")"
   ]
  },
  {
   "cell_type": "code",
   "execution_count": 15,
   "metadata": {},
   "outputs": [
    {
     "name": "stdout",
     "output_type": "stream",
     "text": [
      "Hello\tWorld\n",
      "Byebye\tWorld\n",
      "Enter a number:\t4\n",
      "Enter a num:\t5\n"
     ]
    }
   ],
   "source": [
    "# \\t is for tab\n",
    "# one tab = 4 spaces in modern editors and 8 spaces in old editors\n",
    "# Tab is used to print table like data\n",
    "print(\"Hello\\tWorld\")\n",
    "print(\"Byebye\\tWorld\")\n",
    "\n",
    "data = input(\"Enter a number:\\t\")\n",
    "data1 = input(\"Enter a num:\\t\")"
   ]
  },
  {
   "cell_type": "code",
   "execution_count": 19,
   "metadata": {},
   "outputs": [
    {
     "name": "stdout",
     "output_type": "stream",
     "text": [
      "Enter a number\r",
      "Red\n",
      "Progress....   40%\n",
      "\r",
      "Progress....   50%\n"
     ]
    }
   ],
   "source": [
    "# \\r is a little creepy\n",
    "print(\"Enter a number\\rRed\")\n",
    "print(\"Progress....   40%\")\n",
    "\n",
    "print(\"\\rProgress....   50%\")"
   ]
  },
  {
   "cell_type": "code",
   "execution_count": null,
   "metadata": {},
   "outputs": [],
   "source": [
    "# For more practice\n",
    "\n"
   ]
  },
  {
   "cell_type": "markdown",
   "metadata": {},
   "source": [
    "# Format Specifiers\n",
    "\n",
    "Formatters work by putting in one or more replacement fields or placeholders — defined by a pair of curly braces {} — into a string and calling the str.format() method. You’ll pass into the method the value you want to concatenate with the string. This value will be passed through in the same place that your placeholder is positioned when you run the program.\n",
    "\n",
    "Let's see some examples."
   ]
  },
  {
   "cell_type": "code",
   "execution_count": 39,
   "metadata": {},
   "outputs": [
    {
     "name": "stdout",
     "output_type": "stream",
     "text": [
      "I love Python. I give it 100 out of 100.\n"
     ]
    }
   ],
   "source": [
    "replacementString = \"Python\"\n",
    "replacementNum = 100\n",
    "\n",
    "print(\"I love {}. I give it {} out of 100.\".format(replacementString, replacementNum))"
   ]
  },
  {
   "cell_type": "code",
   "execution_count": 22,
   "metadata": {},
   "outputs": [
    {
     "name": "stdout",
     "output_type": "stream",
     "text": [
      "I love Python. I give it 100 out of 100.\n",
      "\n",
      "I love 100. I give it Python out of 100.\n"
     ]
    }
   ],
   "source": [
    "# We can also change thier order\n",
    "\n",
    "print(\"I love {0}. I give it {1} out of 100.\\n\".format(replacementString, replacementNum))\n",
    "\n",
    "# OR\n",
    "print(\"I love {1}. I give it {0} out of 100.\".format(replacementString, replacementNum))"
   ]
  },
  {
   "cell_type": "code",
   "execution_count": 23,
   "metadata": {},
   "outputs": [
    {
     "name": "stdout",
     "output_type": "stream",
     "text": [
      "69.993\n"
     ]
    }
   ],
   "source": [
    "# Let's try to print a float\n",
    "\n",
    "# Let's say you are paying ₹99.99 and you got a discount of 30%.\n",
    "# You have to print the final amount correct to 2 decimal places.\n",
    "\n",
    "initial = 99.99\n",
    "discount = 30\n",
    "final = initial - (discount * initial / 100)\n",
    "print(final)"
   ]
  },
  {
   "cell_type": "code",
   "execution_count": 29,
   "metadata": {},
   "outputs": [
    {
     "name": "stdout",
     "output_type": "stream",
     "text": [
      "69.99\n"
     ]
    }
   ],
   "source": [
    "# Okay that did not give us a correct answer\n",
    "# We were expecting 69.99\n",
    "# We have a format specifier to tackle this problem.\n",
    "print(\"{0:2f}\".format(final))"
   ]
  },
  {
   "cell_type": "code",
   "execution_count": 27,
   "metadata": {},
   "outputs": [
    {
     "name": "stdout",
     "output_type": "stream",
     "text": [
      "69.993000\n"
     ]
    }
   ],
   "source": [
    "# Let's play some more\n",
    "print(\"{0:f}\".format(final))"
   ]
  },
  {
   "cell_type": "code",
   "execution_count": 30,
   "metadata": {
    "scrolled": true
   },
   "outputs": [
    {
     "name": "stdout",
     "output_type": "stream",
     "text": [
      "70\n"
     ]
    }
   ],
   "source": [
    "# This is going to round off the number to decimal\n",
    "print(\"{0:.0f}\".format(final))"
   ]
  },
  {
   "cell_type": "markdown",
   "metadata": {},
   "source": [
    "**There are a lot of format specifiers available**\n",
    "\n",
    "Read about them here - https://www.digitalocean.com/community/tutorials/how-to-use-string-formatters-in-python-3"
   ]
  },
  {
   "cell_type": "markdown",
   "metadata": {},
   "source": [
    "# Id\n",
    "\n",
    "The function accepts a single parameter and is used to return the identity of an object. This identity has to be unique and constant for this object during the lifetime. Two objects with non-overlapping lifetimes may have the same id() value. If we relate this to C, then they are actually the memory address, here in Python it is the unique id. This function is generally used internally in Python."
   ]
  },
  {
   "cell_type": "code",
   "execution_count": 34,
   "metadata": {},
   "outputs": [
    {
     "name": "stdout",
     "output_type": "stream",
     "text": [
      "851602116992\n",
      "1614968944\n"
     ]
    }
   ],
   "source": [
    "print(id(replacementString))\n",
    "print(id(replacementNum))"
   ]
  },
  {
   "cell_type": "code",
   "execution_count": 40,
   "metadata": {},
   "outputs": [
    {
     "name": "stdout",
     "output_type": "stream",
     "text": [
      "851602116992\n",
      "1614968944\n"
     ]
    }
   ],
   "source": [
    "# These values are constant when you run the code\n",
    "# But these values change everytime you run the code\n",
    "print(id(replacementString))\n",
    "print(id(replacementNum))"
   ]
  },
  {
   "cell_type": "code",
   "execution_count": 41,
   "metadata": {},
   "outputs": [
    {
     "name": "stdout",
     "output_type": "stream",
     "text": [
      "1614967664\n"
     ]
    }
   ],
   "source": [
    "replacementNum = 60\n",
    "print(id(replacementNum))"
   ]
  },
  {
   "cell_type": "markdown",
   "metadata": {},
   "source": [
    "These commands will tell us more how a String is stored in the memory"
   ]
  },
  {
   "cell_type": "code",
   "execution_count": 42,
   "metadata": {},
   "outputs": [
    {
     "name": "stdout",
     "output_type": "stream",
     "text": [
      "851610044656\n"
     ]
    }
   ],
   "source": [
    "replacementString = \"String\"\n",
    "print(id(replacementString))"
   ]
  },
  {
   "cell_type": "code",
   "execution_count": 43,
   "metadata": {},
   "outputs": [
    {
     "name": "stdout",
     "output_type": "stream",
     "text": [
      "851610044656\n"
     ]
    }
   ],
   "source": [
    "anotherString = \"String\"\n",
    "print(id(anotherString))"
   ]
  }
 ],
 "metadata": {
  "kernelspec": {
   "display_name": "Python 3",
   "language": "python",
   "name": "python3"
  },
  "language_info": {
   "codemirror_mode": {
    "name": "ipython",
    "version": 3
   },
   "file_extension": ".py",
   "mimetype": "text/x-python",
   "name": "python",
   "nbconvert_exporter": "python",
   "pygments_lexer": "ipython3",
   "version": "3.6.6"
  }
 },
 "nbformat": 4,
 "nbformat_minor": 2
}
