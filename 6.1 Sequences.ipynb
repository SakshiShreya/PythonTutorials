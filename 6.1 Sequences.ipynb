{
 "cells": [
  {
   "cell_type": "markdown",
   "metadata": {},
   "source": [
    "# Sequences\n",
    "\n",
    "There are three types of sequences in python.\n",
    "\n",
    "- Lists\n",
    "- Tuples\n",
    "- Strings\n",
    "\n",
    "We have already discussed strings. So, we will discuss lists and tuples in this lecture."
   ]
  },
  {
   "cell_type": "markdown",
   "metadata": {},
   "source": [
    "Lists and tuples are the same things. They just have two differences\n",
    "\n",
    "- Lists are defined using square brakets `[]` and tuples are defined using parantheses `()` or without any brackets.\n",
    "- Lists are mutable (they can be changed). Tuples are immutable (they can't be changed)."
   ]
  },
  {
   "cell_type": "markdown",
   "metadata": {},
   "source": [
    "## Lists\n",
    "\n",
    "Lists are similar to arrays in other programming languages. But these are not arrays.\n",
    "\n",
    "Arrays can store only one type of data. One array can store either integers, floats, characters, or arrays. But one lists can store any datatype."
   ]
  },
  {
   "cell_type": "code",
   "execution_count": 1,
   "metadata": {},
   "outputs": [
    {
     "name": "stdout",
     "output_type": "stream",
     "text": [
      "[1, 'Hello', [1, 2, ('H', 'e', 'l', 'l', 'o')], True, 12.4]\n"
     ]
    }
   ],
   "source": [
    "a = [1, \"Hello\", [1, 2, (\"H\", \"e\", \"l\", \"l\", \"o\")], True, 12.4]\n",
    "\n",
    "print(a)"
   ]
  },
  {
   "cell_type": "code",
   "execution_count": 2,
   "metadata": {},
   "outputs": [
    {
     "name": "stdout",
     "output_type": "stream",
     "text": [
      "1\n",
      "[1, 2, ('H', 'e', 'l', 'l', 'o')]\n",
      "('H', 'e', 'l', 'l', 'o')\n",
      "H\n"
     ]
    }
   ],
   "source": [
    "# to access an element of a list, we use indexing\n",
    "\n",
    "print(a[0])\n",
    "print(a[2])\n",
    "print(a[2][2])\n",
    "print(a[2][2][0])"
   ]
  },
  {
   "cell_type": "code",
   "execution_count": 3,
   "metadata": {},
   "outputs": [
    {
     "name": "stdout",
     "output_type": "stream",
     "text": [
      "[1, 'Hello', ['H', 'e', 'l', 'l', 'o'], True, 12.4]\n"
     ]
    }
   ],
   "source": [
    "# Since lists are mutable, we can change the value of any element\n",
    "\n",
    "a[2] = [\"H\", \"e\", \"l\", \"l\", \"o\"]\n",
    "print(a)"
   ]
  },
  {
   "cell_type": "markdown",
   "metadata": {},
   "source": [
    "To read more about lists,\n",
    "\n",
    "https://www.tutorialspoint.com/python/python_lists.htm"
   ]
  },
  {
   "cell_type": "markdown",
   "metadata": {},
   "source": [
    "## Tuples"
   ]
  },
  {
   "cell_type": "markdown",
   "metadata": {},
   "source": [
    "Tuples are again similar to arrays in other programming languages. But these are not arrays. And tuples are immutable.\n",
    "\n",
    "Arrays can store only one type of data. One array can store either integers, floats, characters, or arrays. But one tuples can store any datatype.\n",
    "\n",
    "There are two ways of defining a tuple."
   ]
  },
  {
   "cell_type": "code",
   "execution_count": 4,
   "metadata": {},
   "outputs": [
    {
     "name": "stdout",
     "output_type": "stream",
     "text": [
      "(1, 'Hello', [1, 2, ('H', 'e', 'l', 'l', 'o')], True, 12.4)\n",
      "(1, 'Hello', [1, 2, ('H', 'e', 'l', 'l', 'o')], True, 12.4)\n"
     ]
    }
   ],
   "source": [
    "# method 1 - use ()\n",
    "b = (1, \"Hello\", [1, 2, (\"H\", \"e\", \"l\", \"l\", \"o\")], True, 12.4)\n",
    "\n",
    "# method 2\n",
    "c = 1, \"Hello\", [1, 2, (\"H\", \"e\", \"l\", \"l\", \"o\")], True, 12.4\n",
    "\n",
    "print(b)\n",
    "print(c)\n",
    "\n",
    "# () is just used to group all the elements together.\n",
    "# Because in some cases it is not possible to define a tuple using the second way."
   ]
  },
  {
   "cell_type": "code",
   "execution_count": 5,
   "metadata": {},
   "outputs": [
    {
     "name": "stdout",
     "output_type": "stream",
     "text": [
      "1\n"
     ]
    }
   ],
   "source": [
    "# To access an index of tuple we use indexing\n",
    "print(b[0])"
   ]
  },
  {
   "cell_type": "code",
   "execution_count": 6,
   "metadata": {},
   "outputs": [
    {
     "ename": "TypeError",
     "evalue": "'tuple' object does not support item assignment",
     "output_type": "error",
     "traceback": [
      "\u001b[1;31m---------------------------------------------------------------------------\u001b[0m",
      "\u001b[1;31mTypeError\u001b[0m                                 Traceback (most recent call last)",
      "\u001b[1;32m<ipython-input-6-6be1c623c599>\u001b[0m in \u001b[0;36m<module>\u001b[1;34m()\u001b[0m\n\u001b[0;32m      1\u001b[0m \u001b[1;31m# We can't change any element of a tuple\u001b[0m\u001b[1;33m\u001b[0m\u001b[1;33m\u001b[0m\u001b[0m\n\u001b[1;32m----> 2\u001b[1;33m \u001b[0mb\u001b[0m\u001b[1;33m[\u001b[0m\u001b[1;36m0\u001b[0m\u001b[1;33m]\u001b[0m \u001b[1;33m=\u001b[0m \u001b[1;36m34\u001b[0m\u001b[1;33m\u001b[0m\u001b[0m\n\u001b[0m\u001b[0;32m      3\u001b[0m \u001b[0mprint\u001b[0m\u001b[1;33m(\u001b[0m\u001b[0mb\u001b[0m\u001b[1;33m)\u001b[0m\u001b[1;33m\u001b[0m\u001b[0m\n",
      "\u001b[1;31mTypeError\u001b[0m: 'tuple' object does not support item assignment"
     ]
    }
   ],
   "source": [
    "# We can't change any element of a tuple\n",
    "b[0] = 34\n",
    "print(b)"
   ]
  },
  {
   "cell_type": "code",
   "execution_count": 7,
   "metadata": {},
   "outputs": [
    {
     "name": "stdout",
     "output_type": "stream",
     "text": [
      "Initial tuple:\t\t\t (1, 'Hello', [1, 2, ('H', 'e', 'l', 'l', 'o')], True, 12.4)\n",
      "Tuple converted to List:\t [1, 'Hello', [1, 2, ('H', 'e', 'l', 'l', 'o')], True, 12.4]\n",
      "List changed:\t\t\t [34, 'Hello', [1, 2, ('H', 'e', 'l', 'l', 'o')], True, 12.4]\n",
      "List converted to Tuple:\t (34, 'Hello', [1, 2, ('H', 'e', 'l', 'l', 'o')], True, 12.4)\n"
     ]
    }
   ],
   "source": [
    "# Thus tuples are always used when we don't want to change any value in any case\n",
    "# But if there is a need to change any value, we first convert the tuple to a list\n",
    "# and then change the value.\n",
    "\n",
    "print(\"Initial tuple:\\t\\t\\t\", b)\n",
    "list1 = list(b)\n",
    "print(\"Tuple converted to List:\\t\", list1)\n",
    "list1[0] = 34\n",
    "print(\"List changed:\\t\\t\\t\", list1)\n",
    "b = tuple(list1)\n",
    "print(\"List converted to Tuple:\\t\", b)"
   ]
  },
  {
   "cell_type": "markdown",
   "metadata": {},
   "source": [
    "Read more about tuples:\n",
    "\n",
    "https://www.tutorialspoint.com/python/python_tuples.htm"
   ]
  },
  {
   "cell_type": "markdown",
   "metadata": {},
   "source": [
    "Let's play a little bit with mutability of lists."
   ]
  },
  {
   "cell_type": "code",
   "execution_count": 8,
   "metadata": {},
   "outputs": [
    {
     "name": "stdout",
     "output_type": "stream",
     "text": [
      "a: 699936895432 b: 699936895432 c: 699915738696 d: 699917163864\n"
     ]
    }
   ],
   "source": [
    "a = [1, \"Hello\", [1, 2, (\"H\", \"e\", \"l\", \"l\", \"o\")], True, 12.4]\n",
    "b = a\n",
    "c = [1, \"Hello\", [1, 2, (\"H\", \"e\", \"l\", \"l\", \"o\")], True, 12.4]\n",
    "d = (1, \"Hello\", [1, 2, (\"H\", \"e\", \"l\", \"l\", \"o\")], True, 12.4)\n",
    "\n",
    "# We created three lists. Using 2 different methods.\n",
    "# b = a means 'b' is pointing at the same memory address as 'a'\n",
    "\n",
    "print(\"a:\", id(a), \"b:\", id(b), \"c:\", id(c), \"d:\", id(d))"
   ]
  },
  {
   "cell_type": "code",
   "execution_count": 9,
   "metadata": {},
   "outputs": [
    {
     "name": "stdout",
     "output_type": "stream",
     "text": [
      "a: [10, 'Hello', [1, 2, ('H', 'e', 'l', 'l', 'o')], True, 12.4]\n",
      "b: [10, 'Hello', [1, 2, ('H', 'e', 'l', 'l', 'o')], True, 12.4]\n",
      "c: [1, 'Hello', [1, 2, ('H', 'e', 'l', 'l', 'o')], True, 12.4]\n",
      "d: (1, 'Hello', [1, 2, ('H', 'e', 'l', 'l', 'o')], True, 12.4)\n"
     ]
    }
   ],
   "source": [
    "# If I change something in 'a', it will reflect in 'b' because they are at same memory address\n",
    "a[0] = 10\n",
    "\n",
    "print(\"a:\", a)\n",
    "print(\"b:\", b)\n",
    "print(\"c:\", c)\n",
    "print(\"d:\", d)"
   ]
  },
  {
   "cell_type": "markdown",
   "metadata": {},
   "source": [
    "This is a problem because a lot of times, we copy lists from other list. And if changing one list changes the other too, we are in a trouble. There are two solutions to this problem.\n",
    "1. Run a loop on the complete list1 to copy each element to list2\n",
    "2. Use copy method"
   ]
  },
  {
   "cell_type": "code",
   "execution_count": 10,
   "metadata": {},
   "outputs": [
    {
     "name": "stdout",
     "output_type": "stream",
     "text": [
      "[1, 'Hello', [1, 2, ('H', 'e', 'l', 'l', 'o')], True, 12.4]\n"
     ]
    }
   ],
   "source": [
    "# Use for loop\n",
    "a = [1, \"Hello\", [1, 2, (\"H\", \"e\", \"l\", \"l\", \"o\")], True, 12.4]\n",
    "b = []\n",
    "for i in a:\n",
    "    b.append(i)\n",
    "    \n",
    "print(b)"
   ]
  },
  {
   "cell_type": "code",
   "execution_count": 11,
   "metadata": {},
   "outputs": [
    {
     "name": "stdout",
     "output_type": "stream",
     "text": [
      "a: [10, 'Hello', [1, 2, ('H', 'e', 'l', 'l', 'o')], True, 12.4]\n",
      "b: [1, 'Hello', [1, 2, ('H', 'e', 'l', 'l', 'o')], True, 12.4]\n"
     ]
    }
   ],
   "source": [
    "# Now if we change data in a, b will remain as it is\n",
    "a[0] = 10\n",
    "\n",
    "print(\"a:\", a)\n",
    "print(\"b:\", b)"
   ]
  },
  {
   "cell_type": "code",
   "execution_count": 12,
   "metadata": {},
   "outputs": [
    {
     "name": "stdout",
     "output_type": "stream",
     "text": [
      "a: [10, 'Hello', [1, 2, ('H', 'e', 'l', 'l', 'o')], True, 12.4]\n",
      "b: [1, 'Hello', [1, 2, ('H', 'e', 'l', 'l', 'o')], True, 12.4]\n"
     ]
    }
   ],
   "source": [
    "# Use copy method\n",
    "a = [1, \"Hello\", [1, 2, (\"H\", \"e\", \"l\", \"l\", \"o\")], True, 12.4]\n",
    "b = a.copy()\n",
    "\n",
    "a[0] = 10\n",
    "\n",
    "print(\"a:\", a)\n",
    "print(\"b:\", b)"
   ]
  },
  {
   "cell_type": "markdown",
   "metadata": {},
   "source": [
    "### BUT"
   ]
  },
  {
   "cell_type": "code",
   "execution_count": 13,
   "metadata": {},
   "outputs": [
    {
     "name": "stdout",
     "output_type": "stream",
     "text": [
      "a: [10, 'Hello', [1, 1.1, ('H', 'e', 'l', 'l', 'o')], True, 12.4]\n",
      "b: [1, 'Hello', [1, 1.1, ('H', 'e', 'l', 'l', 'o')], True, 12.4]\n"
     ]
    }
   ],
   "source": [
    "# In both the methods if we go deep inside the list,\n",
    "a[2][1] = 1.1\n",
    "print(\"a:\", a)\n",
    "print(\"b:\", b)"
   ]
  },
  {
   "cell_type": "markdown",
   "metadata": {},
   "source": [
    "It is still changing 'b'.\n",
    "\n",
    "**Reason?**\n",
    "\n",
    "Because, in both the methods, we are copying each element one by one from 'a' and storing them in 'b'. When we copy the list at index 2, we are actually copying the memory address of that list from 'a' and storing in 'b'.\n",
    "\n",
    "Means, both a[2] and b[2] are pointing at the same list. If we change something in 'a[2]', it will reflect in 'b[2]'.\n",
    "\n",
    "**Solution**\n",
    "\n",
    "Use deepcopy\n",
    "\n",
    "https://www.programiz.com/python-programming/shallow-deep-copy"
   ]
  },
  {
   "cell_type": "code",
   "execution_count": 14,
   "metadata": {},
   "outputs": [
    {
     "name": "stdout",
     "output_type": "stream",
     "text": [
      "a: [1, 'Hello', [1, 1.1, ('H', 'e', 'l', 'l', 'o')], True, 12.4]\n",
      "b: [1, 'Hello', [1, 2, ('H', 'e', 'l', 'l', 'o')], True, 12.4]\n"
     ]
    }
   ],
   "source": [
    "from copy import deepcopy \n",
    "\n",
    "# Deepcopy is not present by default. We need to import it\n",
    "# We will look at the syntax of import in some other lecture\n",
    "\n",
    "a = [1, \"Hello\", [1, 2, (\"H\", \"e\", \"l\", \"l\", \"o\")], True, 12.4]\n",
    "b = deepcopy(a)\n",
    "\n",
    "a[2][1] = 1.1\n",
    "print(\"a:\", a)\n",
    "print(\"b:\", b)"
   ]
  },
  {
   "cell_type": "markdown",
   "metadata": {},
   "source": [
    "# Exercises\n",
    "\n",
    "\n",
    "###### Question 1:\n",
    "> arr = [23, 21, 92, 219, 01, 1000, 23, 45, 21, 1938, 2379, 392, 29]\n",
    ">\n",
    "> Find the maximum element in this array/list and delete that.\n",
    "\n",
    "###### Question 2:\n",
    "> Find the index of 45 in the array\n",
    "\n",
    "###### Question 3:\n",
    "> Replace 45 with the maximum number in the array.\n",
    "\n",
    "###### Question 4:\n",
    "> Sort the array and then find the index of 45.\n",
    "\n",
    "To read more about sort method, https://www.programiz.com/python-programming/methods/list/sort"
   ]
  },
  {
   "cell_type": "markdown",
   "metadata": {},
   "source": [
    "## Sequence operators\n",
    "\n",
    "http://artofproblemsolving.com/wiki/index.php?title=Sequence_(Python)"
   ]
  },
  {
   "cell_type": "markdown",
   "metadata": {},
   "source": [
    "# List comprehentions and generator expressions"
   ]
  },
  {
   "cell_type": "markdown",
   "metadata": {},
   "source": [
    "https://medium.freecodecamp.org/python-list-comprehensions-vs-generator-expressions-cef70ccb49db"
   ]
  }
 ],
 "metadata": {
  "kernelspec": {
   "display_name": "Python 3",
   "language": "python",
   "name": "python3"
  },
  "language_info": {
   "codemirror_mode": {
    "name": "ipython",
    "version": 3
   },
   "file_extension": ".py",
   "mimetype": "text/x-python",
   "name": "python",
   "nbconvert_exporter": "python",
   "pygments_lexer": "ipython3",
   "version": "3.6.6"
  }
 },
 "nbformat": 4,
 "nbformat_minor": 2
}
