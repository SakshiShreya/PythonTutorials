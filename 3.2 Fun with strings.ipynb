{
 "cells": [
  {
   "cell_type": "markdown",
   "metadata": {},
   "source": [
    "# What are strings\n",
    "\n",
    "Strings are simply a sequence of characters enclosed inside double quotes - **\" \"** or single quotes - **' '**."
   ]
  },
  {
   "cell_type": "code",
   "execution_count": 1,
   "metadata": {},
   "outputs": [
    {
     "name": "stdout",
     "output_type": "stream",
     "text": [
      "Hello Hello\n",
      "<class 'str'> <class 'str'>\n",
      "462857519208 462857519208\n"
     ]
    }
   ],
   "source": [
    "a = \"Hello\"\n",
    "b = 'Hello'\n",
    "\n",
    "# a and b are same\n",
    "# their ids are also same\n",
    "\n",
    "print(a, b)\n",
    "print(type(a), type(b))\n",
    "print(id(a), id(b))"
   ]
  },
  {
   "cell_type": "markdown",
   "metadata": {},
   "source": [
    "In python, we have single line strings or multi-line strings.\n",
    "\n",
    "- Single line strings are always enclosed between one single/double quotes.\n",
    "- Multi line strings are always enclosed between tree single/double quotes."
   ]
  },
  {
   "cell_type": "code",
   "execution_count": 8,
   "metadata": {},
   "outputs": [
    {
     "name": "stdout",
     "output_type": "stream",
     "text": [
      "Hi! I am a single line string \t Hi! I am a single line string\n",
      "<class 'str'> \t\t\t <class 'str'>\n",
      "462857549424 \t\t\t 462857548464\n"
     ]
    }
   ],
   "source": [
    "# single-line strings\n",
    "a = \"Hi! I am a single line string\"\n",
    "b = 'Hi! I am a single line string'\n",
    "\n",
    "print(a, \"\\t\", b)\n",
    "print(type(a), \"\\t\\t\\t\", type(b))\n",
    "print(id(a), \"\\t\\t\\t\", id(b))"
   ]
  },
  {
   "cell_type": "code",
   "execution_count": 15,
   "metadata": {},
   "outputs": [
    {
     "name": "stdout",
     "output_type": "stream",
     "text": [
      "a:  Hi!\n",
      "I am a\n",
      "multi line\n",
      "string\n",
      "b:  Hi!\n",
      "I am a multi\n",
      "line string\n",
      "type:\t <class 'str'> \t <class 'str'>\n",
      "id:\t 462857564848 \t 462857565088\n"
     ]
    }
   ],
   "source": [
    "# multi-line strings\n",
    "a = \"\"\"Hi!\n",
    "I am a\n",
    "multi line\n",
    "string\"\"\"\n",
    "b = '''Hi!\n",
    "I am a multi\n",
    "line string'''\n",
    "\n",
    "print(\"a: \", a)\n",
    "print(\"b: \", b)\n",
    "print(\"type:\\t\", type(a), \"\\t\", type(b))\n",
    "print(\"id:\\t\", id(a), \"\\t\", id(b))"
   ]
  },
  {
   "cell_type": "markdown",
   "metadata": {},
   "source": [
    "## Length of a string\n",
    "\n",
    "there is a function len() that can give you the length of the strings. OR It will tell you how many characters are present in the string."
   ]
  },
  {
   "cell_type": "code",
   "execution_count": 25,
   "metadata": {},
   "outputs": [
    {
     "name": "stdout",
     "output_type": "stream",
     "text": [
      "5\n",
      "OR\n",
      "5\n"
     ]
    }
   ],
   "source": [
    "a = \"Hello\"\n",
    "\n",
    "length = len(a)\n",
    "print(length)\n",
    "\n",
    "print(\"OR\")\n",
    "\n",
    "print(len(a))"
   ]
  },
  {
   "cell_type": "markdown",
   "metadata": {},
   "source": [
    "## String slicing\n",
    "\n",
    "Sometimes, we want to use only a part of a string. So, we should know how to access different parts."
   ]
  },
  {
   "cell_type": "code",
   "execution_count": 21,
   "metadata": {},
   "outputs": [
    {
     "name": "stdout",
     "output_type": "stream",
     "text": [
      "H\n",
      " \n",
      "v\n",
      "n\n",
      "s\n"
     ]
    }
   ],
   "source": [
    "string = \"Hi! I am a very long string. I challenge you to access my parts.\"\n",
    "\n",
    "# just like we accessed an element in lists or tuples,\n",
    "# we can access the characters of strings also\n",
    "print(string[0])\n",
    "print(string[10])\n",
    "print(string[11])\n",
    "print(string[25])\n",
    "print(string[21])"
   ]
  },
  {
   "cell_type": "code",
   "execution_count": 26,
   "metadata": {},
   "outputs": [
    {
     "data": {
      "text/plain": [
       "64"
      ]
     },
     "execution_count": 26,
     "metadata": {},
     "output_type": "execute_result"
    }
   ],
   "source": [
    "# Find out the length of this string\n",
    "\n"
   ]
  },
  {
   "cell_type": "code",
   "execution_count": 27,
   "metadata": {},
   "outputs": [
    {
     "ename": "IndexError",
     "evalue": "string index out of range",
     "output_type": "error",
     "traceback": [
      "\u001b[1;31m---------------------------------------------------------------------------\u001b[0m",
      "\u001b[1;31mIndexError\u001b[0m                                Traceback (most recent call last)",
      "\u001b[1;32m<ipython-input-27-22f2736bf640>\u001b[0m in \u001b[0;36m<module>\u001b[1;34m()\u001b[0m\n\u001b[0;32m      1\u001b[0m \u001b[1;31m# What if I try to access an index which is greater than the length of string\u001b[0m\u001b[1;33m\u001b[0m\u001b[1;33m\u001b[0m\u001b[0m\n\u001b[1;32m----> 2\u001b[1;33m \u001b[0mprint\u001b[0m\u001b[1;33m(\u001b[0m\u001b[0mstring\u001b[0m\u001b[1;33m[\u001b[0m\u001b[1;36m100\u001b[0m\u001b[1;33m]\u001b[0m\u001b[1;33m)\u001b[0m\u001b[1;33m\u001b[0m\u001b[0m\n\u001b[0m",
      "\u001b[1;31mIndexError\u001b[0m: string index out of range"
     ]
    }
   ],
   "source": [
    "# What if I try to access an index which is greater than the length of string\n",
    "print(string[100])"
   ]
  },
  {
   "cell_type": "code",
   "execution_count": 29,
   "metadata": {},
   "outputs": [
    {
     "name": "stdout",
     "output_type": "stream",
     "text": [
      ".\n",
      "s\n",
      "t\n"
     ]
    }
   ],
   "source": [
    "# What if I try to access a negative index\n",
    "print(string[-1])\n",
    "print(string[-2])\n",
    "print(string[-3])"
   ]
  },
  {
   "cell_type": "markdown",
   "metadata": {},
   "source": [
    "This is fine. But the string challenged to access a part of string, not a single character.\n",
    "\n",
    "That will for that, we use colon `:` Colons are used to access a part of list, tuples or strings.\n",
    "\n",
    "**SYNTAX:**\n",
    "```\n",
    "data[startIndex:endIndex]\n",
    "```\n",
    "\n",
    "Start index is inclusive but end index is exclusive. This means, the character of start index will be taken. But the charactter of last index will be left.\n",
    "\n",
    "Let's see by an example."
   ]
  },
  {
   "cell_type": "code",
   "execution_count": 32,
   "metadata": {},
   "outputs": [
    {
     "name": "stdout",
     "output_type": "stream",
     "text": [
      "ell\n",
      "OR\n",
      "ell\n"
     ]
    }
   ],
   "source": [
    "newString = \"Hello\"\n",
    "\n",
    "# For accessing \"ell\", we will count the indices.\n",
    "# 'e' is at 1st index -> StartIndex = 1\n",
    "# 'l' is at 2nd index\n",
    "# 'l' is at 3rd index -> endIndex = 4\n",
    "\n",
    "part = newString[1:4]\n",
    "print(part)\n",
    "\n",
    "print(\"OR\")\n",
    "\n",
    "print(newString[1:4])"
   ]
  },
  {
   "cell_type": "code",
   "execution_count": 33,
   "metadata": {},
   "outputs": [],
   "source": [
    "# For more experimentation\n",
    "\n"
   ]
  },
  {
   "cell_type": "code",
   "execution_count": 34,
   "metadata": {},
   "outputs": [
    {
     "name": "stdout",
     "output_type": "stream",
     "text": [
      "long \n"
     ]
    }
   ],
   "source": [
    "string = \"Hi! I am a very long string. I challenge you to access my parts.\"\n",
    "\n",
    "# let's try to access 'long'\n",
    "# Start Index = 16\n",
    "# End Index = 21\n",
    "print(string[16:21])"
   ]
  },
  {
   "cell_type": "code",
   "execution_count": null,
   "metadata": {},
   "outputs": [],
   "source": [
    "# Try to access 'challenge'\n",
    "\n",
    "\n"
   ]
  },
  {
   "cell_type": "markdown",
   "metadata": {},
   "source": [
    "## String functions and methods\n",
    "\n",
    "Functions and methods are the same thing. But there is a slight difference in how they are defined and used.\n",
    "\n",
    "We will study how to define them later. Today, we are going to access them.\n",
    "\n",
    "**SYNTAX(of function)**: `funcName(argument1, argument2, ...)`\n",
    "\n",
    "**SYNTAX(of method)**: `variableName.funcName(argument1, argument2, ...)`\n",
    "\n",
    "List of all functions and methods: https://www.tutorialspoint.com/python3/python_strings.htm"
   ]
  },
  {
   "cell_type": "code",
   "execution_count": 44,
   "metadata": {},
   "outputs": [
    {
     "name": "stdout",
     "output_type": "stream",
     "text": [
      "11\n"
     ]
    }
   ],
   "source": [
    "# Function - 1\n",
    "# len()\n",
    "# This is used to find the length of string\n",
    "\n",
    "str = \"Hello World\"\n",
    "print(len(str))"
   ]
  },
  {
   "cell_type": "code",
   "execution_count": 39,
   "metadata": {},
   "outputs": [
    {
     "name": "stdout",
     "output_type": "stream",
     "text": [
      "r\n"
     ]
    }
   ],
   "source": [
    "# Function - 2\n",
    "# max()\n",
    "# Returns the max alphabetical character from the string str\n",
    "print(max(str))"
   ]
  },
  {
   "cell_type": "code",
   "execution_count": 45,
   "metadata": {},
   "outputs": [
    {
     "name": "stdout",
     "output_type": "stream",
     "text": [
      " \n"
     ]
    }
   ],
   "source": [
    "# Function - 3\n",
    "# min()\n",
    "# Returns the min alphabetical character from the string str.\n",
    "\n",
    "print(min(str))"
   ]
  },
  {
   "cell_type": "code",
   "execution_count": 48,
   "metadata": {},
   "outputs": [
    {
     "name": "stdout",
     "output_type": "stream",
     "text": [
      "A string in lowercase.\n"
     ]
    }
   ],
   "source": [
    "# Method - 1 \n",
    "# string.capitalize()\n",
    "# Capitalizes the first letter of string\n",
    "# Also called sentence case\n",
    "\n",
    "lowerCase = \"a string in lowercase.\"\n",
    "print(lowerCase.capitalize())"
   ]
  },
  {
   "cell_type": "code",
   "execution_count": 64,
   "metadata": {},
   "outputs": [
    {
     "name": "stdout",
     "output_type": "stream",
     "text": [
      "4\n"
     ]
    }
   ],
   "source": [
    "# Method -2\n",
    "# string.count(str, beg, end)\n",
    "# beg and end are optional\n",
    "# beg is inclusive. end is exclusive\n",
    "# Counts the number of occurences of str in string\n",
    "\n",
    "string = \"Hi! I am a very long string. I challenge you to access my parts.\"\n",
    "# To find the number of times 'a' has occured,\n",
    "numOfTimes = string.count('a', 9, len(string))\n",
    "print(numOfTimes)"
   ]
  },
  {
   "cell_type": "code",
   "execution_count": 68,
   "metadata": {},
   "outputs": [
    {
     "name": "stdout",
     "output_type": "stream",
     "text": [
      "6\n",
      "-1\n"
     ]
    }
   ],
   "source": [
    "# Method - 3\n",
    "# string.find(str, beg, end)\n",
    "# beg and end are optional\n",
    "# beg is inclusive, end is exclusive\n",
    "# Finds the first occurence of str in string between beg and end index\n",
    "# Returns -1 if not found\n",
    "\n",
    "string = \"Hi! I am a very long string. I challenge you to access my parts.\"\n",
    "find = string.find('am', 0, len(string))\n",
    "print(find)\n",
    "\n",
    "print(string.find('an', 0, len(string)))"
   ]
  },
  {
   "cell_type": "code",
   "execution_count": 74,
   "metadata": {},
   "outputs": [
    {
     "name": "stdout",
     "output_type": "stream",
     "text": [
      "False\n",
      "am\n",
      "True\n"
     ]
    }
   ],
   "source": [
    "# Method - 4\n",
    "# str.isalpha()\n",
    "# Returns True if string has only alphabets\n",
    "# Else returns False\n",
    "# Returns False even if the string is empty\n",
    "\n",
    "print(string.isalpha())\n",
    "print(string[6:8])\n",
    "print(string[6:8].isalpha())"
   ]
  },
  {
   "cell_type": "code",
   "execution_count": null,
   "metadata": {},
   "outputs": [],
   "source": [
    "# Method - 5\n",
    "# string.isDigit()\n",
    "# Returns True if string has only digits\n",
    "# Else returns False\n",
    "# Returns False even if the string is empty\n",
    "\n",
    "# Try yoourself\n",
    "# you can construct a new string that has digits\n",
    "\n"
   ]
  },
  {
   "cell_type": "markdown",
   "metadata": {},
   "source": [
    "You can try other methods also.\n",
    "\n",
    "https://www.tutorialspoint.com/python3/python_strings.htm"
   ]
  }
 ],
 "metadata": {
  "kernelspec": {
   "display_name": "Python 3",
   "language": "python",
   "name": "python3"
  },
  "language_info": {
   "codemirror_mode": {
    "name": "ipython",
    "version": 3
   },
   "file_extension": ".py",
   "mimetype": "text/x-python",
   "name": "python",
   "nbconvert_exporter": "python",
   "pygments_lexer": "ipython3",
   "version": "3.6.6"
  }
 },
 "nbformat": 4,
 "nbformat_minor": 2
}
