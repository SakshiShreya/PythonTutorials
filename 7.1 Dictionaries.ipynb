{
 "cells": [
  {
   "cell_type": "markdown",
   "metadata": {},
   "source": [
    "# Dictionaries\n",
    "\n",
    "A dictionary is a collection which is unordered, changeable and indexed. In Python dictionaries are written with curly brackets, and they are present in keys:values pairs."
   ]
  },
  {
   "cell_type": "code",
   "execution_count": 1,
   "metadata": {},
   "outputs": [
    {
     "name": "stdout",
     "output_type": "stream",
     "text": [
      "{'rollNo': 1, 'name': 'ABC', 'address': 'hjgs83 dsu80o', 'class': 4, 'marks': {'English': 89, 'Hindi': 72, 'Maths': 10}}\n"
     ]
    }
   ],
   "source": [
    "studentInfo = {\"rollNo\": 1, \"name\": \"ABC\", \"address\": \"hjgs83 dsu80o\", \"class\": 4, \"marks\": {\"English\": 89, \"Hindi\": 72, \"Maths\": 10}}\n",
    "\n",
    "print(studentInfo)"
   ]
  },
  {
   "cell_type": "code",
   "execution_count": 2,
   "metadata": {},
   "outputs": [
    {
     "name": "stdout",
     "output_type": "stream",
     "text": [
      "{1: 'ABC', 2: 'BCD', 3: 'CDE', 4: 'DEF', 5: 'EFG'}\n"
     ]
    }
   ],
   "source": [
    "rollnoVSname = {1: \"ABC\", 2: \"BCD\", 3: \"CDE\", 4: \"DEF\", 5: \"EFG\"}\n",
    "print(rollnoVSname)"
   ]
  },
  {
   "cell_type": "code",
   "execution_count": 3,
   "metadata": {},
   "outputs": [
    {
     "name": "stdout",
     "output_type": "stream",
     "text": [
      "dict_keys(['rollNo', 'name', 'address', 'class', 'marks'])\n"
     ]
    }
   ],
   "source": [
    "print(studentInfo.keys())"
   ]
  },
  {
   "cell_type": "code",
   "execution_count": 4,
   "metadata": {
    "scrolled": true
   },
   "outputs": [
    {
     "name": "stdout",
     "output_type": "stream",
     "text": [
      "dict_values([1, 'ABC', 'hjgs83 dsu80o', 4, {'English': 89, 'Hindi': 72, 'Maths': 10}])\n"
     ]
    }
   ],
   "source": [
    "print(studentInfo.values())"
   ]
  },
  {
   "cell_type": "code",
   "execution_count": 5,
   "metadata": {},
   "outputs": [
    {
     "name": "stdout",
     "output_type": "stream",
     "text": [
      "ABC\n",
      "89\n"
     ]
    }
   ],
   "source": [
    "# Indexing in dictionaries is done using keys\n",
    "\n",
    "print(studentInfo[\"name\"])\n",
    "print(studentInfo[\"marks\"][\"English\"])"
   ]
  },
  {
   "cell_type": "code",
   "execution_count": 6,
   "metadata": {},
   "outputs": [
    {
     "name": "stdout",
     "output_type": "stream",
     "text": [
      "<class 'dict_values'>\n",
      "<class 'dict_keys'>\n"
     ]
    },
    {
     "ename": "TypeError",
     "evalue": "'dict_values' object does not support indexing",
     "output_type": "error",
     "traceback": [
      "\u001b[1;31m---------------------------------------------------------------------------\u001b[0m",
      "\u001b[1;31mTypeError\u001b[0m                                 Traceback (most recent call last)",
      "\u001b[1;32m<ipython-input-6-a04198659ba1>\u001b[0m in \u001b[0;36m<module>\u001b[1;34m()\u001b[0m\n\u001b[0;32m      6\u001b[0m \u001b[0mprint\u001b[0m\u001b[1;33m(\u001b[0m\u001b[0mtype\u001b[0m\u001b[1;33m(\u001b[0m\u001b[0mstudentInfo\u001b[0m\u001b[1;33m.\u001b[0m\u001b[0mkeys\u001b[0m\u001b[1;33m(\u001b[0m\u001b[1;33m)\u001b[0m\u001b[1;33m)\u001b[0m\u001b[1;33m)\u001b[0m\u001b[1;33m\u001b[0m\u001b[0m\n\u001b[0;32m      7\u001b[0m \u001b[1;33m\u001b[0m\u001b[0m\n\u001b[1;32m----> 8\u001b[1;33m \u001b[0mprint\u001b[0m\u001b[1;33m(\u001b[0m\u001b[0mstudentInfo\u001b[0m\u001b[1;33m.\u001b[0m\u001b[0mvalues\u001b[0m\u001b[1;33m(\u001b[0m\u001b[1;33m)\u001b[0m\u001b[1;33m[\u001b[0m\u001b[1;36m0\u001b[0m\u001b[1;33m]\u001b[0m\u001b[1;33m)\u001b[0m\u001b[1;33m\u001b[0m\u001b[0m\n\u001b[0m\u001b[0;32m      9\u001b[0m \u001b[0mprint\u001b[0m\u001b[1;33m(\u001b[0m\u001b[0mstudentInfo\u001b[0m\u001b[1;33m.\u001b[0m\u001b[0mkeys\u001b[0m\u001b[1;33m(\u001b[0m\u001b[1;33m)\u001b[0m\u001b[1;33m[\u001b[0m\u001b[1;36m1\u001b[0m\u001b[1;33m]\u001b[0m\u001b[1;33m)\u001b[0m\u001b[1;33m\u001b[0m\u001b[0m\n",
      "\u001b[1;31mTypeError\u001b[0m: 'dict_values' object does not support indexing"
     ]
    }
   ],
   "source": [
    "# How to access any element in values or keys list\n",
    "# In python 2\n",
    "# This does not work in python 3\n",
    "\n",
    "print(type(studentInfo.values()))\n",
    "print(type(studentInfo.keys()))\n",
    "\n",
    "print(studentInfo.values()[0])\n",
    "print(studentInfo.keys()[1])"
   ]
  },
  {
   "cell_type": "code",
   "execution_count": 7,
   "metadata": {},
   "outputs": [
    {
     "name": "stdout",
     "output_type": "stream",
     "text": [
      "{'rollNo': 1, 'name': 'ABC', 'address': 'hsga ow292ns', 'class': 4, 'marks': {'English': 89, 'Hindi': 72, 'Maths': 10}}\n"
     ]
    }
   ],
   "source": [
    "# updating an element in dictionary\n",
    "\n",
    "studentInfo[\"address\"] = \"hsga ow292ns\"\n",
    "print(studentInfo)"
   ]
  },
  {
   "cell_type": "code",
   "execution_count": 8,
   "metadata": {},
   "outputs": [
    {
     "name": "stdout",
     "output_type": "stream",
     "text": [
      "{'rollNo': 1, 'name': 'ABC', 'address': 'hsga ow292ns', 'class': 4, 'marks': {'English': 89, 'Hindi': 72, 'Maths': 10}, 'phoneNo': 9876543210}\n"
     ]
    }
   ],
   "source": [
    "# adding an elements in dictionary\n",
    "\n",
    "studentInfo[\"phoneNo\"] = 9876543210\n",
    "print(studentInfo)"
   ]
  },
  {
   "cell_type": "code",
   "execution_count": 9,
   "metadata": {},
   "outputs": [
    {
     "name": "stdout",
     "output_type": "stream",
     "text": [
      "{'rollNo': 1, 'name': 'ABC', 'address': 'hsga ow292ns', 'class': 4, 'phoneNo': 9876543210}\n"
     ]
    }
   ],
   "source": [
    "# deleting an element in dictionary\n",
    "del studentInfo[\"marks\"]\n",
    "print(studentInfo)"
   ]
  },
  {
   "cell_type": "markdown",
   "metadata": {},
   "source": [
    "# Iterating over a dictionary"
   ]
  },
  {
   "cell_type": "code",
   "execution_count": 10,
   "metadata": {},
   "outputs": [
    {
     "name": "stdout",
     "output_type": "stream",
     "text": [
      "rollNo\n",
      "name\n",
      "address\n",
      "class\n",
      "phoneNo\n"
     ]
    }
   ],
   "source": [
    "for i in studentInfo:\n",
    "    print(i)"
   ]
  },
  {
   "cell_type": "code",
   "execution_count": 11,
   "metadata": {},
   "outputs": [
    {
     "name": "stdout",
     "output_type": "stream",
     "text": [
      "('rollNo', 1)\n",
      "('name', 'ABC')\n",
      "('address', 'hsga ow292ns')\n",
      "('class', 4)\n",
      "('phoneNo', 9876543210)\n"
     ]
    }
   ],
   "source": [
    "for i in studentInfo.items():\n",
    "    print(i)"
   ]
  },
  {
   "cell_type": "markdown",
   "metadata": {},
   "source": [
    "# Dictionary functions\n",
    "\n",
    "https://www.programiz.com/python-programming/dictionary"
   ]
  }
 ],
 "metadata": {
  "kernelspec": {
   "display_name": "Python 3",
   "language": "python",
   "name": "python3"
  },
  "language_info": {
   "codemirror_mode": {
    "name": "ipython",
    "version": 3
   },
   "file_extension": ".py",
   "mimetype": "text/x-python",
   "name": "python",
   "nbconvert_exporter": "python",
   "pygments_lexer": "ipython3",
   "version": "3.6.6"
  }
 },
 "nbformat": 4,
 "nbformat_minor": 2
}
