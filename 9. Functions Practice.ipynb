{
 "cells": [
  {
   "cell_type": "markdown",
   "metadata": {},
   "source": [
    "# Functions practice questions"
   ]
  },
  {
   "cell_type": "markdown",
   "metadata": {},
   "source": [
    "## Is prime\n",
    "\n",
    "Write a function that finds if a given number *n* is prime or non-prime.\n",
    "\n",
    "**Constraints**\n",
    "\n",
    "n is an integer. n >= 2\n",
    "\n",
    "**Sample Input**\n",
    "```\n",
    "5\n",
    "```\n",
    "\n",
    "**Sample Output**\n",
    "```\n",
    "Prime\n",
    "```\n",
    "\n",
    "**Sample Input**\n",
    "```\n",
    "8\n",
    "```\n",
    "**Sample Output**\n",
    "```\n",
    "Non-prime\n",
    "```"
   ]
  },
  {
   "cell_type": "code",
   "execution_count": null,
   "metadata": {},
   "outputs": [],
   "source": []
  },
  {
   "cell_type": "markdown",
   "metadata": {},
   "source": [
    "## Is second array inverse of first array\n",
    "\n",
    "Take as input *N*, the size of array. Take N more inputs and store that in an array. Take N more inputs and store that in another array. Write a function which returns true if the second array is inverse of first and false otherwise. Print the value returned.\n",
    "\n",
    "1. It reads a number N.\n",
    "2. Take Another N numbers as input and store them in one array.\n",
    "3. Take Another N numbers as input and store them in an second array.\n",
    "4. Print true if second array is inverse of first array else print false.\n",
    "\n",
    "**Constraints**\n",
    "\n",
    "N >= 0.\n",
    "\n",
    "Elements of array can be in the range [0, inf)\n",
    "\n",
    "**Sample input**\n",
    "```\n",
    "5\n",
    "4\n",
    "0\n",
    "2\n",
    "1\n",
    "3\n",
    "3\n",
    "1\n",
    "2\n",
    "0\n",
    "4\n",
    "```\n",
    "\n",
    "**Sample Output**\n",
    "```\n",
    "True\n",
    "```"
   ]
  },
  {
   "cell_type": "code",
   "execution_count": null,
   "metadata": {},
   "outputs": [],
   "source": []
  },
  {
   "cell_type": "markdown",
   "metadata": {},
   "source": [
    "## Target sum pairs\n",
    "\n",
    "Take as input N, the size of array. Take N more inputs and store that in an array. Take as input “target”, a number. Write a function which prints all pairs of numbers which sum to target.\n",
    "\n",
    "**Constraints**\n",
    "\n",
    "Length of the arrays should be between 1 and 1000.\n",
    "\n",
    "**Sample Input**\n",
    "```\n",
    "5\n",
    "1\n",
    "3\n",
    "4\n",
    "2\n",
    "5\n",
    "5\n",
    "```\n",
    "\n",
    "**Sample Output**\n",
    "```\n",
    "1 and 4\n",
    "2 and 3\n",
    "```"
   ]
  },
  {
   "cell_type": "code",
   "execution_count": null,
   "metadata": {},
   "outputs": [],
   "source": []
  },
  {
   "cell_type": "markdown",
   "metadata": {},
   "source": [
    "## Toggle Case\n",
    "\n",
    "Take as input S, a string. Write a function that toggles the case of all characters in the string. Print the value returned.\n",
    "\n",
    "**Constraints**\n",
    "Length of string should be between 1 to 1000.\n",
    "\n",
    "**Sample Input**\n",
    "```\n",
    "abC\n",
    "```\n",
    "\n",
    "**Sample Output**\n",
    "```\n",
    "ABc\n",
    "```"
   ]
  },
  {
   "cell_type": "code",
   "execution_count": null,
   "metadata": {},
   "outputs": [],
   "source": []
  }
 ],
 "metadata": {
  "kernelspec": {
   "display_name": "Python 3",
   "language": "python",
   "name": "python3"
  },
  "language_info": {
   "codemirror_mode": {
    "name": "ipython",
    "version": 3
   },
   "file_extension": ".py",
   "mimetype": "text/x-python",
   "name": "python",
   "nbconvert_exporter": "python",
   "pygments_lexer": "ipython3",
   "version": "3.6.6"
  }
 },
 "nbformat": 4,
 "nbformat_minor": 2
}
