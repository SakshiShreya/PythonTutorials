{
 "cells": [
  {
   "cell_type": "markdown",
   "metadata": {},
   "source": [
    "# Input and Output functions\n",
    "\n",
    "In any programming language, we need input and output functions to interact with the user."
   ]
  },
  {
   "cell_type": "markdown",
   "metadata": {},
   "source": [
    "## Input\n",
    "\n",
    "Input functions are also different in python 2 and 3.\n",
    "\n",
    "In python 2, we have two input functions:\n",
    "1. input()\n",
    "2. raw_input()\n",
    "\n",
    "But in python 3, we have only one:\n",
    "1. input()"
   ]
  },
  {
   "cell_type": "markdown",
   "metadata": {},
   "source": [
    "### Difference between input() and raw_input() in Python 2\n",
    "\n",
    "Both the functions are used to take input from the user, the difference lies in what is stored after inputting.\n",
    "\n",
    "**_CODE input()_**\n",
    "```\n",
    "data = input()\n",
    "print(data)\n",
    "print(type(data))\n",
    "```\n",
    "\n",
    "**INPUT**\n",
    "```\n",
    "56\n",
    "```\n",
    "\n",
    "**OUTPUT**\n",
    "```\n",
    "56\n",
    "<type 'int'>\n",
    "```\n",
    "\n",
    "```\n",
    "\n",
    "\n",
    "\n",
    "```\n",
    "\n",
    "**CODE raw_input()**\n",
    "```\n",
    "data = raw_input()\n",
    "print(data)\n",
    "print(type(data))\n",
    "```\n",
    "\n",
    "**INPUT**\n",
    "```\n",
    "56\n",
    "```\n",
    "\n",
    "**OUTPUT**\n",
    "```\n",
    "56\n",
    "<type 'str'>\n",
    "```"
   ]
  },
  {
   "cell_type": "markdown",
   "metadata": {},
   "source": [
    "We can see that, the output is evaluated to integer when we use input().\n",
    "\n",
    "But the output is a string (or not evaluated value or raw value) when we used raw_input()."
   ]
  },
  {
   "cell_type": "markdown",
   "metadata": {},
   "source": [
    "### Difference between input() of python 2 and python 3\n",
    "\n",
    "In python 2, input() returns evaluated value. But in python 3, input() returns a raw value.\n",
    "\n",
    "This means that raw_input() of python 2 is similar to input() of python 3."
   ]
  },
  {
   "cell_type": "code",
   "execution_count": 2,
   "metadata": {},
   "outputs": [
    {
     "name": "stdout",
     "output_type": "stream",
     "text": [
      "1223\n"
     ]
    }
   ],
   "source": [
    "data = input()"
   ]
  },
  {
   "cell_type": "code",
   "execution_count": 3,
   "metadata": {},
   "outputs": [
    {
     "name": "stdout",
     "output_type": "stream",
     "text": [
      "1223\n",
      "<class 'str'>\n"
     ]
    }
   ],
   "source": [
    "print(data)\n",
    "print(type(data))"
   ]
  },
  {
   "cell_type": "markdown",
   "metadata": {},
   "source": [
    "## Exercise\n",
    "\n",
    "Step 1. Try to input an integer or float\n",
    "\n",
    "Step 2. Multiply the inputted value by 5\n",
    "\n",
    "Step 3. Print the multiplied value"
   ]
  },
  {
   "cell_type": "code",
   "execution_count": 4,
   "metadata": {},
   "outputs": [
    {
     "name": "stdout",
     "output_type": "stream",
     "text": [
      "5\n",
      "55555\n"
     ]
    }
   ],
   "source": [
    "data = input() \n",
    "print(data*5)"
   ]
  },
  {
   "cell_type": "code",
   "execution_count": 5,
   "metadata": {},
   "outputs": [
    {
     "name": "stdout",
     "output_type": "stream",
     "text": [
      "76.2\n",
      "381.0\n"
     ]
    }
   ],
   "source": [
    "data = float(input())\n",
    "print(data*5)"
   ]
  },
  {
   "cell_type": "code",
   "execution_count": 6,
   "metadata": {},
   "outputs": [
    {
     "ename": "NameError",
     "evalue": "name 'raw_input' is not defined",
     "output_type": "error",
     "traceback": [
      "\u001b[1;31m---------------------------------------------------------------------------\u001b[0m",
      "\u001b[1;31mNameError\u001b[0m                                 Traceback (most recent call last)",
      "\u001b[1;32m<ipython-input-6-85dc1b67e231>\u001b[0m in \u001b[0;36m<module>\u001b[1;34m()\u001b[0m\n\u001b[0;32m      1\u001b[0m \u001b[1;31m# if we try to use raw_input in python 3, it gives an error\u001b[0m\u001b[1;33m\u001b[0m\u001b[1;33m\u001b[0m\u001b[0m\n\u001b[1;32m----> 2\u001b[1;33m \u001b[0mraw\u001b[0m \u001b[1;33m=\u001b[0m \u001b[0mraw_input\u001b[0m\u001b[1;33m(\u001b[0m\u001b[1;33m)\u001b[0m\u001b[1;33m\u001b[0m\u001b[0m\n\u001b[0m",
      "\u001b[1;31mNameError\u001b[0m: name 'raw_input' is not defined"
     ]
    }
   ],
   "source": [
    "# if we try to use raw_input in python 3, it gives an error\n",
    "raw = raw_input()"
   ]
  },
  {
   "cell_type": "markdown",
   "metadata": {},
   "source": [
    "## Print/Output\n",
    "\n",
    "As discussed earlier, print is different in python 2 and 3. We will not discuss that again.\n",
    "\n",
    "Notice that when we print something, python automatically adds a new line everytime."
   ]
  },
  {
   "cell_type": "code",
   "execution_count": 7,
   "metadata": {},
   "outputs": [
    {
     "name": "stdout",
     "output_type": "stream",
     "text": [
      "Hello\n",
      "World\n",
      "Hello , this is my World\n"
     ]
    }
   ],
   "source": [
    "hello = \"Hello\"\n",
    "world = \"World\"\n",
    "print(hello)\n",
    "print(world)\n",
    "# Hello, this is my world\n",
    "print(hello, \", this is my\", world)"
   ]
  },
  {
   "cell_type": "markdown",
   "metadata": {},
   "source": [
    "What if we want to remove the new line? We want to print \"Hello\" and \"World\" in the same line.\n",
    "\n",
    "There are two ways of doing this."
   ]
  },
  {
   "cell_type": "code",
   "execution_count": 8,
   "metadata": {},
   "outputs": [
    {
     "name": "stdout",
     "output_type": "stream",
     "text": [
      "HellomyWorld"
     ]
    }
   ],
   "source": [
    "## METHOD 1\n",
    "# Remove the new line\n",
    "# We do that by using a new argument in print function - 'end'\n",
    "# Whenever we write something inside a function, that is known as argument\n",
    "# Here, hello and end are two arguments\n",
    "print(hello, end=\"\")\n",
    "print(\"my\", end=\"\")\n",
    "print(world, end=\"\")"
   ]
  },
  {
   "cell_type": "code",
   "execution_count": 9,
   "metadata": {},
   "outputs": [
    {
     "name": "stdout",
     "output_type": "stream",
     "text": [
      "Hello:World\n"
     ]
    }
   ],
   "source": [
    "# end is by default set to a new line character.\n",
    "# We have replaced the default value by an empty string\n",
    "# Let's say we want to insert a colon (:) between the two strings, we can do that\n",
    "print(hello, end=\":\")\n",
    "print(world)"
   ]
  },
  {
   "cell_type": "code",
   "execution_count": 10,
   "metadata": {},
   "outputs": [
    {
     "name": "stdout",
     "output_type": "stream",
     "text": [
      "Hello World\n"
     ]
    }
   ],
   "source": [
    "# try to insert a space between the two words\n",
    "print(hello, end=\" \")\n",
    "print(world)\n",
    "\n",
    "\n"
   ]
  },
  {
   "cell_type": "code",
   "execution_count": 11,
   "metadata": {},
   "outputs": [],
   "source": [
    "# For more experimentation\n",
    "\n",
    "\n",
    "\n"
   ]
  },
  {
   "cell_type": "code",
   "execution_count": 12,
   "metadata": {},
   "outputs": [
    {
     "name": "stdout",
     "output_type": "stream",
     "text": [
      "Hello World\n"
     ]
    }
   ],
   "source": [
    "## METHOD 2\n",
    "# Instead of writing hello and world in two different print statements\n",
    "# We can combine them in one\n",
    "print(hello, world)"
   ]
  },
  {
   "cell_type": "code",
   "execution_count": 13,
   "metadata": {},
   "outputs": [
    {
     "name": "stdout",
     "output_type": "stream",
     "text": [
      "HelloWorld\n"
     ]
    }
   ],
   "source": [
    "# This automatically adds a space between the two words.\n",
    "# This is because another argument called 'sep' is by default set to space\n",
    "# We can remove the space by using that argument\n",
    "print(hello, world, sep='')\n",
    "\n",
    "# Remember to use arguments like end and sep at the end"
   ]
  },
  {
   "cell_type": "code",
   "execution_count": 14,
   "metadata": {},
   "outputs": [
    {
     "ename": "SyntaxError",
     "evalue": "positional argument follows keyword argument (<ipython-input-14-c96ca3e4b2b2>, line 2)",
     "output_type": "error",
     "traceback": [
      "\u001b[1;36m  File \u001b[1;32m\"<ipython-input-14-c96ca3e4b2b2>\"\u001b[1;36m, line \u001b[1;32m2\u001b[0m\n\u001b[1;33m    print(hello, sep=\"\", world)\u001b[0m\n\u001b[1;37m                        ^\u001b[0m\n\u001b[1;31mSyntaxError\u001b[0m\u001b[1;31m:\u001b[0m positional argument follows keyword argument\n"
     ]
    }
   ],
   "source": [
    "# This is wrong\n",
    "print(hello, sep=\"\", world)"
   ]
  },
  {
   "cell_type": "code",
   "execution_count": 15,
   "metadata": {},
   "outputs": [
    {
     "name": "stdout",
     "output_type": "stream",
     "text": [
      "HelloabcWorld\n"
     ]
    }
   ],
   "source": [
    "separation = \"abc\"\n",
    "\n",
    "# Try to use this in sep\n",
    "print(hello, world, sep=separation)\n",
    "\n",
    "\n",
    "\n",
    "\n",
    "\n"
   ]
  }
 ],
 "metadata": {
  "kernelspec": {
   "display_name": "Python 3",
   "language": "python",
   "name": "python3"
  },
  "language_info": {
   "codemirror_mode": {
    "name": "ipython",
    "version": 3
   },
   "file_extension": ".py",
   "mimetype": "text/x-python",
   "name": "python",
   "nbconvert_exporter": "python",
   "pygments_lexer": "ipython3",
   "version": "3.6.9"
  }
 },
 "nbformat": 4,
 "nbformat_minor": 2
}
